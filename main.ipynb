{
 "cells": [
  {
   "cell_type": "markdown",
   "metadata": {},
   "source": [
    "# Scraping Pokemon Wikipedia articles"
   ]
  },
  {
   "cell_type": "code",
   "execution_count": 1,
   "metadata": {},
   "outputs": [],
   "source": [
    "# import the needed libraries\n",
    "import requests\n",
    "import pandas as pd\n",
    "import re\n",
    "import os\n"
   ]
  },
  {
   "cell_type": "code",
   "execution_count": 2,
   "metadata": {},
   "outputs": [
    {
     "name": "stdout",
     "output_type": "stream",
     "text": [
      "You've already created this Folder Dummy!\n"
     ]
    }
   ],
   "source": [
    "# create article directory\n",
    "directory = \"\\\\articles\"\n",
    "\n",
    "parentDirectory = os.getcwdb().decode('utf-8')\n",
    "\n",
    "path = parentDirectory + directory\n",
    "\n",
    "try:\n",
    "    os.mkdir(path)\n",
    "except OSError as error:\n",
    "    print(\"You've already created this Folder Dummy!\")"
   ]
  },
  {
   "cell_type": "code",
   "execution_count": 3,
   "metadata": {},
   "outputs": [],
   "source": [
    "df = pd.read_excel('generations/generation1.xls')"
   ]
  },
  {
   "cell_type": "code",
   "execution_count": 4,
   "metadata": {},
   "outputs": [
    {
     "data": {
      "text/html": [
       "<div>\n",
       "<style scoped>\n",
       "    .dataframe tbody tr th:only-of-type {\n",
       "        vertical-align: middle;\n",
       "    }\n",
       "\n",
       "    .dataframe tbody tr th {\n",
       "        vertical-align: top;\n",
       "    }\n",
       "\n",
       "    .dataframe thead th {\n",
       "        text-align: right;\n",
       "    }\n",
       "</style>\n",
       "<table border=\"1\" class=\"dataframe\">\n",
       "  <thead>\n",
       "    <tr style=\"text-align: right;\">\n",
       "      <th></th>\n",
       "      <th>Name</th>\n",
       "    </tr>\n",
       "  </thead>\n",
       "  <tbody>\n",
       "    <tr>\n",
       "      <th>0</th>\n",
       "      <td>Bulbasaur †</td>\n",
       "    </tr>\n",
       "    <tr>\n",
       "      <th>1</th>\n",
       "      <td>Ivysaur</td>\n",
       "    </tr>\n",
       "    <tr>\n",
       "      <th>2</th>\n",
       "      <td>Venusaur</td>\n",
       "    </tr>\n",
       "    <tr>\n",
       "      <th>3</th>\n",
       "      <td>Charmander†</td>\n",
       "    </tr>\n",
       "    <tr>\n",
       "      <th>4</th>\n",
       "      <td>Charmeleon</td>\n",
       "    </tr>\n",
       "    <tr>\n",
       "      <th>...</th>\n",
       "      <td>...</td>\n",
       "    </tr>\n",
       "    <tr>\n",
       "      <th>146</th>\n",
       "      <td>Dratini</td>\n",
       "    </tr>\n",
       "    <tr>\n",
       "      <th>147</th>\n",
       "      <td>Dragonair</td>\n",
       "    </tr>\n",
       "    <tr>\n",
       "      <th>148</th>\n",
       "      <td>Dragonite</td>\n",
       "    </tr>\n",
       "    <tr>\n",
       "      <th>149</th>\n",
       "      <td>Mewtwo ‡</td>\n",
       "    </tr>\n",
       "    <tr>\n",
       "      <th>150</th>\n",
       "      <td>Mew ♭</td>\n",
       "    </tr>\n",
       "  </tbody>\n",
       "</table>\n",
       "<p>151 rows × 1 columns</p>\n",
       "</div>"
      ],
      "text/plain": [
       "            Name\n",
       "0    Bulbasaur †\n",
       "1        Ivysaur\n",
       "2       Venusaur\n",
       "3    Charmander†\n",
       "4     Charmeleon\n",
       "..           ...\n",
       "146      Dratini\n",
       "147    Dragonair\n",
       "148    Dragonite\n",
       "149     Mewtwo ‡\n",
       "150        Mew ♭\n",
       "\n",
       "[151 rows x 1 columns]"
      ]
     },
     "execution_count": 4,
     "metadata": {},
     "output_type": "execute_result"
    }
   ],
   "source": [
    "df"
   ]
  },
  {
   "cell_type": "code",
   "execution_count": 5,
   "metadata": {},
   "outputs": [],
   "source": [
    "# clean up data a bit\n",
    "for i in range(len(df['Name'])):\n",
    "    df['Name'][i] = re.sub(r'[^A-Za-z]', '', df['Name'][i])\n",
    "    "
   ]
  },
  {
   "cell_type": "code",
   "execution_count": 10,
   "metadata": {},
   "outputs": [
    {
     "data": {
      "text/plain": [
       "'Psyduck'"
      ]
     },
     "execution_count": 10,
     "metadata": {},
     "output_type": "execute_result"
    }
   ],
   "source": [
    "df['Name'][53]"
   ]
  },
  {
   "cell_type": "markdown",
   "metadata": {},
   "source": [
    "## Algorithm and Test"
   ]
  },
  {
   "cell_type": "code",
   "execution_count": 3,
   "metadata": {},
   "outputs": [],
   "source": [
    "# get an article\n",
    "url = 'https://en.wikipedia.org/api/rest_v1/page/pdf/Pikachu%20(Pokémon)' \n",
    "response = requests.get(url)\n",
    "response.raise_for_status()"
   ]
  },
  {
   "cell_type": "code",
   "execution_count": 33,
   "metadata": {},
   "outputs": [
    {
     "data": {
      "text/plain": [
       "int"
      ]
     },
     "execution_count": 33,
     "metadata": {},
     "output_type": "execute_result"
    }
   ],
   "source": [
    "type(response.status_code)"
   ]
  },
  {
   "cell_type": "code",
   "execution_count": 4,
   "metadata": {},
   "outputs": [],
   "source": [
    "with open('articles/Pikachu.pdf', 'wb') as f:\n",
    "    f.write(response.content)"
   ]
  },
  {
   "cell_type": "markdown",
   "metadata": {},
   "source": [
    "### Get articles for every Generation 1 pokemon 1"
   ]
  },
  {
   "cell_type": "code",
   "execution_count": null,
   "metadata": {},
   "outputs": [],
   "source": [
    "for pokemon in df['Name']:\n",
    "    url = 'https://en.wikipedia.org/api/rest_v1/page/pdf/' \n",
    "    url_ending = '%20(Pokémon)'\n",
    "    response = requests.get(url + pokemon + url_ending)\n",
    "    if response.status_code != 200:\n",
    "        continue\n",
    "\n",
    "    with open(f'articles/{pokemon}.pdf', 'wb') as f:\n",
    "        f.write(response.content)"
   ]
  },
  {
   "cell_type": "markdown",
   "metadata": {},
   "source": [
    "## Running the Code above lead me to discover that wikipedia doesn't have a unique article for every pokemon so I modifed the code above to all scrape the unique articles."
   ]
  },
  {
   "cell_type": "code",
   "execution_count": 25,
   "metadata": {},
   "outputs": [],
   "source": [
    "url = 'https://en.wikipedia.org/api/rest_v1/page/pdf/Beedrill%20(Pokémon)' \n",
    "response = requests.get(url)\n",
    "response.raise_for_status()\n",
    "with open('articles/Beedrill.pdf', 'wb') as f:\n",
    "    f.write(response.content)"
   ]
  },
  {
   "cell_type": "code",
   "execution_count": 26,
   "metadata": {},
   "outputs": [],
   "source": [
    "unUniqueArticle = response.content"
   ]
  },
  {
   "cell_type": "markdown",
   "metadata": {},
   "source": [
    "## New and Improved \"Get article for every Generation 1 pokemon\""
   ]
  },
  {
   "cell_type": "code",
   "execution_count": 9,
   "metadata": {},
   "outputs": [],
   "source": [
    "done = []\n",
    "sumOfUniqueArticles = 0"
   ]
  },
  {
   "cell_type": "code",
   "execution_count": 28,
   "metadata": {},
   "outputs": [
    {
     "name": "stdout",
     "output_type": "stream",
     "text": [
      "Pokemon: Bulbasaur\n",
      "Article Dowloaded\n",
      "\n",
      "Pokemon: Ivysaur\n",
      "Pokemon: Venusaur\n",
      "Article Dowloaded\n",
      "\n",
      "Pokemon: Charmander\n",
      "Article Dowloaded\n",
      "\n",
      "Pokemon: Charmeleon\n",
      "Pokemon: Charizard\n",
      "Article Dowloaded\n",
      "\n",
      "Pokemon: Squirtle\n",
      "Article Dowloaded\n",
      "\n",
      "Pokemon: Wartortle\n",
      "Pokemon: Blastoise\n",
      "Pokemon: Caterpie\n",
      "Pokemon: Metapod\n",
      "Pokemon: Butterfree\n",
      "Pokemon: Weedle\n",
      "Pokemon: Kakuna\n",
      "Pokemon: Beedrill\n",
      "Pokemon: Pidgey\n",
      "Pokemon: Pidgeotto\n",
      "Pokemon: Pidgeot\n",
      "Pokemon: Rattata\n",
      "Pokemon: Raticate\n",
      "Pokemon: Spearow\n",
      "Pokemon: Fearow\n",
      "Pokemon: Ekans\n",
      "Pokemon: Arbok\n",
      "Pokemon: Pikachud\n",
      "Pokemon: Raichu\n",
      "Pokemon: Sandshrew\n",
      "Pokemon: Sandslash\n",
      "Pokemon: Nidoran\n",
      "Pokemon: Nidorina\n",
      "Pokemon: Nidoqueen\n",
      "Pokemon: Nidorino\n",
      "Pokemon: Nidoking\n",
      "Pokemon: Clefairy\n",
      "Pokemon: Clefable\n",
      "Pokemon: Vulpix\n",
      "Pokemon: Ninetales\n",
      "Pokemon: Jigglypuff\n",
      "Article Dowloaded\n",
      "\n",
      "Pokemon: Wigglytuff\n",
      "Pokemon: Zubat\n",
      "Pokemon: Golbat\n",
      "Pokemon: Oddish\n",
      "Pokemon: Gloom\n",
      "Pokemon: Vileplume\n",
      "Pokemon: Paras\n",
      "Pokemon: Parasect\n",
      "Pokemon: Venonat\n",
      "Pokemon: Venomoth\n",
      "Pokemon: Diglett\n",
      "Pokemon: Dugtrio\n"
     ]
    }
   ],
   "source": [
    "for pokemon in df['Name'][0:51]:\n",
    "    if pokemon not in done:\n",
    "        done.append(pokemon)\n",
    "    else:\n",
    "        continue\n",
    "    print(\"Pokemon:\", pokemon)\n",
    "    url = 'https://en.wikipedia.org/api/rest_v1/page/pdf/' \n",
    "    url_ending = '%20(Pokémon)'\n",
    "    response = requests.get(url + pokemon + url_ending)\n",
    "    if response.status_code != 200:\n",
    "        continue\n",
    "\n",
    "    if response.content == unUniqueArticle:\n",
    "        continue\n",
    "\n",
    "    with open(f'articles/{pokemon}.pdf', 'wb') as f:\n",
    "        f.write(response.content)\n",
    "        sumOfUniqueArticles = sumOfUniqueArticles + 1\n",
    "        print(\"Article Dowloaded\\n\")"
   ]
  },
  {
   "cell_type": "code",
   "execution_count": 29,
   "metadata": {},
   "outputs": [
    {
     "name": "stdout",
     "output_type": "stream",
     "text": [
      "Pokemon: Meowth\n",
      "Article Dowloaded\n",
      "\n",
      "Pokemon: Persian\n",
      "Pokemon: Psyduck\n",
      "Article Dowloaded\n",
      "\n",
      "Pokemon: Golduck\n",
      "Pokemon: Mankey\n",
      "Pokemon: Primeape\n",
      "Pokemon: Growlithe\n",
      "Pokemon: Arcanine\n",
      "Pokemon: Poliwag\n",
      "Pokemon: Poliwhirl\n",
      "Pokemon: Poliwrath\n",
      "Pokemon: Abra\n",
      "Pokemon: Kadabra\n",
      "Article Dowloaded\n",
      "\n",
      "Pokemon: Alakazam\n",
      "Pokemon: Machop\n",
      "Pokemon: Machoke\n",
      "Pokemon: Machamp\n",
      "Pokemon: Bellsprout\n",
      "Pokemon: Weepinbell\n",
      "Pokemon: Victreebel\n",
      "Pokemon: Tentacool\n",
      "Pokemon: Tentacruel\n",
      "Pokemon: Geodude\n",
      "Pokemon: Graveler\n",
      "Pokemon: Golem\n",
      "Pokemon: Ponyta\n",
      "Pokemon: Rapidash\n",
      "Pokemon: Slowpoke\n",
      "Pokemon: Slowbro\n",
      "Pokemon: Magnemite\n",
      "Pokemon: Magneton\n",
      "Pokemon: Farfetchd\n",
      "Pokemon: Doduo\n",
      "Pokemon: Dodrio\n",
      "Pokemon: Seel\n",
      "Pokemon: Dewgong\n",
      "Pokemon: Grimer\n",
      "Pokemon: Muk\n",
      "Pokemon: Shellder\n",
      "Pokemon: Cloyster\n",
      "Pokemon: Gastly\n",
      "Pokemon: Haunter\n",
      "Pokemon: Gengar\n",
      "Pokemon: Onix\n",
      "Pokemon: Drowzee\n",
      "Pokemon: Hypno\n",
      "Pokemon: Krabby\n",
      "Pokemon: Kingler\n",
      "Pokemon: Voltorb\n",
      "Pokemon: Electrode\n"
     ]
    }
   ],
   "source": [
    "for pokemon in df['Name'][51:101]:\n",
    "    if pokemon not in done:\n",
    "        done.append(pokemon)\n",
    "    else:\n",
    "        continue\n",
    "    print(\"Pokemon:\", pokemon)\n",
    "    url = 'https://en.wikipedia.org/api/rest_v1/page/pdf/' \n",
    "    url_ending = '%20(Pokémon)'\n",
    "    response = requests.get(url + pokemon + url_ending)\n",
    "    if response.status_code != 200:\n",
    "        continue\n",
    "\n",
    "    if response.content == unUniqueArticle:\n",
    "        continue\n",
    "\n",
    "    with open(f'articles/{pokemon}.pdf', 'wb') as f:\n",
    "        f.write(response.content)\n",
    "        sumOfUniqueArticles = sumOfUniqueArticles + 1\n",
    "        print(\"Article Dowloaded\\n\")"
   ]
  },
  {
   "cell_type": "code",
   "execution_count": 30,
   "metadata": {},
   "outputs": [
    {
     "name": "stdout",
     "output_type": "stream",
     "text": [
      "Pokemon: Exeggcute\n",
      "Pokemon: Exeggutor\n",
      "Pokemon: Cubone\n",
      "Pokemon: Marowak\n",
      "Pokemon: Hitmonlee\n",
      "Pokemon: Hitmonchan\n",
      "Pokemon: Lickitung\n",
      "Pokemon: Koffing\n",
      "Pokemon: Weezing\n",
      "Pokemon: Rhyhorn\n",
      "Pokemon: Rhydon\n",
      "Pokemon: Chansey\n",
      "Pokemon: Tangela\n",
      "Pokemon: Kangaskhan\n",
      "Pokemon: Horsea\n",
      "Pokemon: Seadra\n",
      "Pokemon: Goldeen\n",
      "Pokemon: Seaking\n",
      "Pokemon: Staryu\n",
      "Pokemon: Starmie\n",
      "Pokemon: MrMime\n",
      "Pokemon: Scyther\n",
      "Pokemon: Jynx\n",
      "Article Dowloaded\n",
      "\n",
      "Pokemon: Electabuzz\n",
      "Pokemon: Magmar\n",
      "Pokemon: Pinsir\n",
      "Pokemon: Tauros\n",
      "Pokemon: Magikarp\n",
      "Article Dowloaded\n",
      "\n",
      "Pokemon: Gyarados\n",
      "Article Dowloaded\n",
      "\n",
      "Pokemon: Lapras\n",
      "Article Dowloaded\n",
      "\n",
      "Pokemon: Ditto\n",
      "Pokemon: Eeveee\n",
      "Pokemon: Vaporeon\n",
      "Pokemon: Jolteon\n",
      "Pokemon: Flareon\n",
      "Pokemon: Porygon\n",
      "Pokemon: Omanyte\n",
      "Pokemon: Omastar\n",
      "Pokemon: Kabuto\n",
      "Pokemon: Kabutops\n",
      "Pokemon: Aerodactyl\n",
      "Pokemon: Snorlax\n",
      "Article Dowloaded\n",
      "\n",
      "Pokemon: Articuno\n",
      "Pokemon: Zapdos\n",
      "Pokemon: Moltres\n",
      "Pokemon: Dratini\n",
      "Pokemon: Dragonair\n",
      "Pokemon: Dragonite\n",
      "Pokemon: Mewtwo\n",
      "Article Dowloaded\n",
      "\n",
      "Pokemon: Mew\n",
      "Article Dowloaded\n",
      "\n"
     ]
    }
   ],
   "source": [
    "for pokemon in df['Name'][101:]:\n",
    "    if pokemon not in done:\n",
    "        done.append(pokemon)\n",
    "    else:\n",
    "        continue\n",
    "    print(\"Pokemon:\", pokemon)\n",
    "    url = 'https://en.wikipedia.org/api/rest_v1/page/pdf/' \n",
    "    url_ending = '%20(Pokémon)'\n",
    "    response = requests.get(url + pokemon + url_ending)\n",
    "    if response.status_code != 200:\n",
    "        continue\n",
    "\n",
    "    if response.content == unUniqueArticle:\n",
    "        continue\n",
    "\n",
    "    with open(f'articles/{pokemon}.pdf', 'wb') as f:\n",
    "        f.write(response.content)\n",
    "        sumOfUniqueArticles = sumOfUniqueArticles + 1\n",
    "        print(\"Article Dowloaded\\n\")"
   ]
  },
  {
   "cell_type": "code",
   "execution_count": 31,
   "metadata": {},
   "outputs": [
    {
     "data": {
      "text/plain": [
       "16"
      ]
     },
     "execution_count": 31,
     "metadata": {},
     "output_type": "execute_result"
    }
   ],
   "source": [
    "sumOfUniqueArticles"
   ]
  },
  {
   "cell_type": "markdown",
   "metadata": {},
   "source": [
    "# Now for the remain Generations"
   ]
  },
  {
   "cell_type": "code",
   "execution_count": 5,
   "metadata": {},
   "outputs": [],
   "source": [
    "# first I need reuse able code not DRY code\n",
    "url = 'https://en.wikipedia.org/api/rest_v1/page/pdf/Beedrill%20(Pokémon)' \n",
    "response = requests.get(url)\n",
    "response.raise_for_status()\n",
    "unUniqueArticle = response.content\n",
    "\n",
    "\n",
    "def cleanPokemonName(pokemon):\n",
    "    return re.sub('[^A-za-z]', '', pokemon)\n",
    "\n",
    "def getRawArticle(pokemon):\n",
    "    url = 'https://en.wikipedia.org/api/rest_v1/page/pdf/' \n",
    "    url_ending = '%20(Pokémon)'\n",
    "    response = requests.get(url + pokemon + url_ending)\n",
    "    if response.status_code != 200:\n",
    "        return None\n",
    "\n",
    "    return response.content\n",
    "\n",
    "def rawArticletoPDF(article, pokemon):\n",
    "    with open(f'articles/{pokemon}.pdf', 'wb') as f:\n",
    "        print(\"Pokemon: \", pokemon)\n",
    "        f.write(article)\n",
    "        print(\"Article Dowloaded\\n\")\n",
    "    "
   ]
  },
  {
   "cell_type": "code",
   "execution_count": 6,
   "metadata": {},
   "outputs": [],
   "source": [
    "# load all the generations\n",
    "gen2 = pd.read_excel('generations/generation2.xls')\n",
    "gen3 = pd.read_excel('generations/generation3.xls')\n",
    "gen4 = pd.read_excel('generations/generation4.xls')\n",
    "gen5 = pd.read_excel('generations/generation5.xls')\n",
    "gen6 = pd.read_excel('generations/generation6.xls')\n",
    "gen7 = pd.read_excel('generations/generation7.xls')\n",
    "gen8 = pd.read_excel('generations/generation8.xls')\n",
    "gen9 = pd.read_excel('generations/generation9.xls')"
   ]
  },
  {
   "cell_type": "code",
   "execution_count": 7,
   "metadata": {},
   "outputs": [],
   "source": [
    "# clean up data\n",
    "for i in range(len(gen2['Name'])):\n",
    "    gen2['Name'][i] = cleanPokemonName(gen2['Name'][i])\n",
    "\n",
    "for i in range(len(gen3['Name'])):\n",
    "    gen3['Name'][i] = cleanPokemonName(gen3['Name'][i])\n",
    "\n",
    "for i in range(len(gen4['Name'])):\n",
    "    gen4['Name'][i] = cleanPokemonName(gen4['Name'][i])\n",
    "\n",
    "for i in range(len(gen5['Name'])):\n",
    "    gen5['Name'][i] = cleanPokemonName(gen5['Name'][i])\n",
    "\n",
    "for i in range(len(gen6['Name'])):\n",
    "    gen6['Name'][i] = cleanPokemonName(gen6['Name'][i])\n",
    "\n",
    "for i in range(len(gen7['Name'])):\n",
    "    gen7['Name'][i] = cleanPokemonName(gen7['Name'][i])\n",
    "\n",
    "for i in range(len(gen8['Name'])):\n",
    "    gen8['Name'][i] = cleanPokemonName(gen8['Name'][i])\n",
    "\n",
    "for i in range(len(gen9['Name'])):\n",
    "    gen9['Name'][i] = cleanPokemonName(gen9['Name'][i])"
   ]
  },
  {
   "cell_type": "code",
   "execution_count": 10,
   "metadata": {},
   "outputs": [
    {
     "data": {
      "text/plain": [
       "0"
      ]
     },
     "execution_count": 10,
     "metadata": {},
     "output_type": "execute_result"
    }
   ],
   "source": [
    "sumOfUniqueArticles"
   ]
  },
  {
   "cell_type": "markdown",
   "metadata": {},
   "source": [
    "## Get Gen 2 Pokemon articles"
   ]
  },
  {
   "cell_type": "code",
   "execution_count": 51,
   "metadata": {},
   "outputs": [],
   "source": [
    "len(gen2)\n",
    "done2 = {}"
   ]
  },
  {
   "cell_type": "code",
   "execution_count": 53,
   "metadata": {},
   "outputs": [],
   "source": [
    "# special function changes with each generation\n",
    "url = 'https://en.wikipedia.org/api/rest_v1/page/pdf/Chikorita%20(Pokémon)' \n",
    "response = requests.get(url)\n",
    "response.raise_for_status()\n",
    "unUniqueArticle = response.content\n",
    "\n",
    "\n",
    "def checkArticleUniqueness(article):\n",
    "    if article != unUniqueArticle:\n",
    "        return True\n",
    "    else:\n",
    "        return False"
   ]
  },
  {
   "cell_type": "code",
   "execution_count": null,
   "metadata": {},
   "outputs": [],
   "source": [
    "for pokemon in gen2['Name'][0:50]:\n",
    "    \n",
    "    if done2.get(pokemon):\n",
    "        continue\n",
    "    else:\n",
    "        done2[pokemon] = pokemon\n",
    "    \n",
    "    print(\"Pokemon: \", pokemon)\n",
    "    article = getRawArticle(pokemon)\n",
    "\n",
    "    if article != None:\n",
    "\n",
    "        if checkArticleUniqueness(article):\n",
    "            sumOfUniqueArticles = sumOfUniqueArticles + 1\n",
    "            rawArticletoPDF(article, pokemon)\n",
    "        else:\n",
    "            continue\n",
    "\n",
    "    else:\n",
    "        continue"
   ]
  },
  {
   "cell_type": "code",
   "execution_count": null,
   "metadata": {},
   "outputs": [],
   "source": [
    "for pokemon in gen2['Name'][50:]:\n",
    "\n",
    "    if done2.get(pokemon):\n",
    "        continue\n",
    "    else:\n",
    "        done2[pokemon] = pokemon\n",
    "\n",
    "    print(\"Pokemon: \", pokemon)\n",
    "    article = getRawArticle(pokemon)\n",
    "\n",
    "    if article != None:\n",
    "\n",
    "        if checkArticleUniqueness(article):\n",
    "            sumOfUniqueArticles = sumOfUniqueArticles + 1\n",
    "            rawArticletoPDF(article, pokemon)\n",
    "        else:\n",
    "            continue\n",
    "\n",
    "    else:\n",
    "        continue"
   ]
  },
  {
   "cell_type": "code",
   "execution_count": 60,
   "metadata": {},
   "outputs": [
    {
     "data": {
      "text/plain": [
       "100"
      ]
     },
     "execution_count": 60,
     "metadata": {},
     "output_type": "execute_result"
    }
   ],
   "source": [
    "len(done2)"
   ]
  },
  {
   "cell_type": "markdown",
   "metadata": {},
   "source": [
    "# Gen 3 Pokemon"
   ]
  },
  {
   "cell_type": "code",
   "execution_count": 67,
   "metadata": {},
   "outputs": [],
   "source": [
    "len(gen3)\n",
    "done3 = {}"
   ]
  },
  {
   "cell_type": "code",
   "execution_count": 69,
   "metadata": {},
   "outputs": [],
   "source": [
    "# special function changes with each generation\n",
    "url = 'https://en.wikipedia.org/api/rest_v1/page/pdf/Treecko%20(Pokémon)' \n",
    "response = requests.get(url)\n",
    "response.raise_for_status()\n",
    "#rawArticletoPDF(article, 'Treecko')\n",
    "unUniqueArticle = response.content\n",
    "\n",
    "\n",
    "def checkArticleUniqueness(article):\n",
    "    if article != unUniqueArticle:\n",
    "        return True\n",
    "    else:\n",
    "        return False"
   ]
  },
  {
   "cell_type": "code",
   "execution_count": 70,
   "metadata": {},
   "outputs": [
    {
     "name": "stdout",
     "output_type": "stream",
     "text": [
      "Pokemon:  Treecko\n",
      "Pokemon:  Grovyle\n",
      "Pokemon:  Sceptile\n",
      "Pokemon:  Torchic\n",
      "Pokemon:  Combusken\n",
      "Pokemon:  Blaziken\n",
      "Pokemon:  Mudkip\n",
      "Pokemon:  Marshtomp\n",
      "Pokemon:  Swampert\n",
      "Pokemon:  Poochyena\n",
      "Pokemon:  Mightyena\n",
      "Pokemon:  Zigzagoon\n",
      "Pokemon:  Linoone\n",
      "Pokemon:  Wurmple\n",
      "Pokemon:  Silcoon\n",
      "Pokemon:  Beautifly\n",
      "Pokemon:  Cascoon\n",
      "Pokemon:  Dustox\n",
      "Pokemon:  Lotad\n",
      "Pokemon:  Lombre\n",
      "Pokemon:  Ludicolo\n",
      "Pokemon:  Seedot\n",
      "Pokemon:  Nuzleaf\n",
      "Pokemon:  Shiftry\n",
      "Pokemon:  Taillow\n",
      "Pokemon:  Swellow\n",
      "Pokemon:  Wingull\n",
      "Pokemon:  Pelipper\n",
      "Pokemon:  Ralts\n",
      "Pokemon:  Kirlia\n",
      "Pokemon:  Gardevoir\n",
      "Pokemon:  Surskit\n",
      "Pokemon:  Masquerain\n",
      "Pokemon:  Shroomish\n",
      "Pokemon:  Breloom\n",
      "Pokemon:  Slakoth\n",
      "Pokemon:  Vigoroth\n",
      "Pokemon:  Slaking\n",
      "Pokemon:  Nincada\n",
      "Pokemon:  Ninjask\n",
      "Pokemon:  Shedinja\n",
      "Pokemon:  Whismur\n",
      "Pokemon:  Loudred\n",
      "Pokemon:  Exploud\n",
      "Pokemon:  Makuhita\n",
      "Pokemon:  Hariyama\n",
      "Pokemon:  Azurill\n",
      "Pokemon:  Nosepass\n",
      "Pokemon:  Skitty\n",
      "Pokemon:  Delcatty\n"
     ]
    }
   ],
   "source": [
    "for pokemon in gen3['Name'][0:50]:\n",
    "\n",
    "    if done3.get(pokemon):\n",
    "        continue\n",
    "    else:\n",
    "        done3[pokemon] = pokemon\n",
    "\n",
    "    print(\"Pokemon: \", pokemon)\n",
    "    article = getRawArticle(pokemon)\n",
    "\n",
    "    if article != None:\n",
    "\n",
    "        if checkArticleUniqueness(article):\n",
    "            sumOfUniqueArticles = sumOfUniqueArticles + 1\n",
    "            rawArticletoPDF(article, pokemon)\n",
    "        else:\n",
    "            continue\n",
    "\n",
    "    else:\n",
    "        continue"
   ]
  },
  {
   "cell_type": "code",
   "execution_count": 71,
   "metadata": {},
   "outputs": [
    {
     "name": "stdout",
     "output_type": "stream",
     "text": [
      "Pokemon:  Sableye\n",
      "Pokemon:  Mawile\n",
      "Pokemon:  Aron\n",
      "Pokemon:  Lairon\n",
      "Pokemon:  Aggron\n",
      "Pokemon:  Meditite\n",
      "Pokemon:  Medicham\n",
      "Pokemon:  Electrike\n",
      "Pokemon:  Manectric\n",
      "Pokemon:  Plusle\n",
      "Pokemon:  Minun\n",
      "Pokemon:  Volbeat\n",
      "Pokemon:  Illumise\n",
      "Pokemon:  Roselia\n",
      "Pokemon:  Gulpin\n",
      "Pokemon:  Swalot\n",
      "Pokemon:  Carvanha\n",
      "Pokemon:  Sharpedo\n",
      "Pokemon:  Wailmer\n",
      "Pokemon:  Wailord\n",
      "Pokemon:  Numel\n",
      "Pokemon:  Camerupt\n",
      "Pokemon:  Torkoal\n",
      "Pokemon:  Spoink\n",
      "Pokemon:  Grumpig\n",
      "Pokemon:  Spinda\n",
      "Pokemon:  Trapinch\n",
      "Pokemon:  Vibrava\n",
      "Pokemon:  Flygon\n",
      "Pokemon:  Cacnea\n",
      "Pokemon:  Cacturne\n",
      "Pokemon:  Swablu\n",
      "Pokemon:  Altaria\n",
      "Pokemon:  Zangoose\n",
      "Pokemon:  Seviper\n",
      "Pokemon:  Lunatone\n",
      "Pokemon:  Solrock\n",
      "Pokemon:  Barboach\n",
      "Pokemon:  Whiscash\n",
      "Pokemon:  Corphish\n",
      "Pokemon:  Crawdaunt\n",
      "Pokemon:  Baltoy\n",
      "Pokemon:  Claydol\n",
      "Pokemon:  Lileep\n",
      "Pokemon:  Cradily\n",
      "Pokemon:  Anorith\n",
      "Pokemon:  Armaldo\n",
      "Pokemon:  Feebas\n",
      "Pokemon:  Milotic\n",
      "Pokemon:  Castform\n"
     ]
    }
   ],
   "source": [
    "for pokemon in gen3['Name'][50:100]:\n",
    "\n",
    "    if done3.get(pokemon):\n",
    "        continue\n",
    "    else:\n",
    "        done3[pokemon] = pokemon\n",
    "\n",
    "    print(\"Pokemon: \", pokemon)\n",
    "    article = getRawArticle(pokemon)\n",
    "\n",
    "    if article != None:\n",
    "\n",
    "        if checkArticleUniqueness(article):\n",
    "            sumOfUniqueArticles = sumOfUniqueArticles + 1\n",
    "            rawArticletoPDF(article, pokemon)\n",
    "        else:\n",
    "            continue\n",
    "\n",
    "    else:\n",
    "        continue"
   ]
  },
  {
   "cell_type": "code",
   "execution_count": 72,
   "metadata": {},
   "outputs": [
    {
     "name": "stdout",
     "output_type": "stream",
     "text": [
      "Pokemon:  Kecleon\n",
      "Pokemon:  Shuppet\n",
      "Pokemon:  Banette\n",
      "Pokemon:  Duskull\n",
      "Pokemon:  Dusclops\n",
      "Pokemon:  Tropius\n",
      "Pokemon:  Chimecho\n",
      "Pokemon:  Absol\n",
      "Pokemon:  Wynaut\n",
      "Pokemon:  Snorunt\n",
      "Pokemon:  Glalie\n",
      "Pokemon:  Spheal\n",
      "Pokemon:  Sealeo\n",
      "Pokemon:  Walrein\n",
      "Pokemon:  Clamperl\n",
      "Pokemon:  Huntail\n",
      "Pokemon:  Gorebyss\n",
      "Pokemon:  Relicanth\n",
      "Pokemon:  Luvdisc\n",
      "Pokemon:  Bagon\n",
      "Pokemon:  Shelgon\n",
      "Pokemon:  Salamence\n",
      "Pokemon:  Beldum\n",
      "Pokemon:  Metang\n",
      "Pokemon:  Metagross\n",
      "Pokemon:  Regirock\n",
      "Pokemon:  Regice\n",
      "Pokemon:  Registeel\n",
      "Pokemon:  Latias\n",
      "Pokemon:  Latios\n",
      "Pokemon:  Kyogre\n",
      "Pokemon:  Groudon\n",
      "Pokemon:  Rayquaza\n",
      "Pokemon:  Jirachi\n",
      "Pokemon:  Deoxys[f]\n"
     ]
    }
   ],
   "source": [
    "for pokemon in gen3['Name'][100:]:\n",
    "\n",
    "    if done3.get(pokemon):\n",
    "        continue\n",
    "    else:\n",
    "        done3[pokemon] = pokemon\n",
    "\n",
    "    print(\"Pokemon: \", pokemon)\n",
    "    article = getRawArticle(pokemon)\n",
    "\n",
    "    if article != None:\n",
    "\n",
    "        if checkArticleUniqueness(article):\n",
    "            sumOfUniqueArticles = sumOfUniqueArticles + 1\n",
    "            rawArticletoPDF(article, pokemon)\n",
    "        else:\n",
    "            continue\n",
    "\n",
    "    else:\n",
    "        continue"
   ]
  },
  {
   "cell_type": "code",
   "execution_count": 73,
   "metadata": {},
   "outputs": [
    {
     "data": {
      "text/plain": [
       "16"
      ]
     },
     "execution_count": 73,
     "metadata": {},
     "output_type": "execute_result"
    }
   ],
   "source": [
    "sumOfUniqueArticles"
   ]
  },
  {
   "cell_type": "markdown",
   "metadata": {},
   "source": [
    "# Gen 4 pokemon"
   ]
  },
  {
   "cell_type": "code",
   "execution_count": 7,
   "metadata": {},
   "outputs": [
    {
     "data": {
      "text/plain": [
       "'Turtwig'"
      ]
     },
     "execution_count": 7,
     "metadata": {},
     "output_type": "execute_result"
    }
   ],
   "source": [
    "len(gen4)\n",
    "done4 = {}\n",
    "gen4['Name'][0]"
   ]
  },
  {
   "cell_type": "code",
   "execution_count": 14,
   "metadata": {},
   "outputs": [],
   "source": [
    "# special function changes with each generation\n",
    "url = 'https://en.wikipedia.org/api/rest_v1/page/pdf/Turtwig%20(Pokémon)' \n",
    "response = requests.get(url)\n",
    "response.raise_for_status()\n",
    "#article = response.content\n",
    "#rawArticletoPDF(article, 'Turtwig')\n",
    "unUniqueArticle = response.content\n",
    "\n",
    "\n",
    "def checkArticleUniqueness(article):\n",
    "    if article != unUniqueArticle:\n",
    "        return True\n",
    "    else:\n",
    "        return False"
   ]
  },
  {
   "cell_type": "code",
   "execution_count": 11,
   "metadata": {},
   "outputs": [
    {
     "name": "stdout",
     "output_type": "stream",
     "text": [
      "Pokemon:  Turtwig\n",
      "Pokemon:  Grotle\n",
      "Pokemon:  Torterra\n",
      "Pokemon:  Chimchar\n",
      "Pokemon:  Monferno\n",
      "Pokemon:  Infernape\n",
      "Pokemon:  Piplup\n",
      "Pokemon:  Prinplup\n",
      "Pokemon:  Empoleon\n",
      "Pokemon:  Starly\n",
      "Pokemon:  Staravia\n",
      "Pokemon:  Staraptor\n",
      "Pokemon:  Bidoof\n",
      "Pokemon:  Bibarel\n",
      "Pokemon:  Kricketot\n",
      "Pokemon:  Kricketune\n",
      "Pokemon:  Shinx\n",
      "Pokemon:  Luxio\n",
      "Pokemon:  Luxray\n",
      "Pokemon:  Budew\n",
      "Pokemon:  Roserade\n",
      "Pokemon:  Cranidos[c]\n",
      "Pokemon:  Rampardos[c]\n",
      "Pokemon:  Shieldon[c]\n",
      "Pokemon:  Bastiodon[c]\n",
      "Pokemon:  Burmy\n",
      "Pokemon:  Wormadam\n",
      "Pokemon:  Mothim\n",
      "Pokemon:  Combee\n",
      "Pokemon:  Vespiquen\n",
      "Pokemon:  Pachirisu\n",
      "Pokemon:  Buizel\n",
      "Pokemon:  Floatzel\n",
      "Pokemon:  Cherubi\n",
      "Pokemon:  Cherrim\n",
      "Pokemon:  Shellos\n",
      "Pokemon:  Gastrodon\n",
      "Pokemon:  Ambipom\n",
      "Pokemon:  Drifloon\n",
      "Pokemon:  Drifblim\n",
      "Pokemon:  Buneary\n",
      "Pokemon:  Lopunny\n",
      "Pokemon:  Mismagius\n",
      "Pokemon:  Honchkrow\n",
      "Pokemon:  Glameow\n",
      "Pokemon:  Purugly\n",
      "Pokemon:  Chingling\n",
      "Pokemon:  Stunky\n",
      "Pokemon:  Skuntank\n",
      "Pokemon:  Bronzor\n"
     ]
    }
   ],
   "source": [
    "for pokemon in gen4['Name'][0:50]:\n",
    "\n",
    "    if done4.get(pokemon):\n",
    "        continue\n",
    "    else:\n",
    "        done4[pokemon] = pokemon\n",
    "\n",
    "    print(\"Pokemon: \", pokemon)\n",
    "    article = getRawArticle(pokemon)\n",
    "\n",
    "    if article != None:\n",
    "\n",
    "        if checkArticleUniqueness(article):\n",
    "            sumOfUniqueArticles = sumOfUniqueArticles + 1\n",
    "            rawArticletoPDF(article, pokemon)\n",
    "        else:\n",
    "            continue\n",
    "\n",
    "    else:\n",
    "        continue"
   ]
  },
  {
   "cell_type": "code",
   "execution_count": 15,
   "metadata": {},
   "outputs": [
    {
     "name": "stdout",
     "output_type": "stream",
     "text": [
      "Pokemon:  Hippopotas\n",
      "Pokemon:  Hippowdon\n",
      "Pokemon:  Skorupi\n",
      "Pokemon:  Drapion\n",
      "Pokemon:  Croagunk\n",
      "Pokemon:  Toxicroak\n",
      "Pokemon:  Carnivine\n",
      "Pokemon:  Finneon\n",
      "Pokemon:  Lumineon\n",
      "Pokemon:  Mantyke\n",
      "Pokemon:  Snover\n",
      "Pokemon:  Abomasnow\n",
      "Pokemon:  Weavile\n",
      "Pokemon:  Magnezone\n",
      "Pokemon:  Lickilicky\n",
      "Pokemon:  Rhyperior\n",
      "Pokemon:  Tangrowth\n",
      "Pokemon:  Electivire\n",
      "Pokemon:  Magmortar\n",
      "Pokemon:  Togekiss\n",
      "Pokemon:  Yanmega\n",
      "Pokemon:  Leafeon\n",
      "Pokemon:  Glaceon\n",
      "Pokemon:  Gliscor\n",
      "Pokemon:  Mamoswine\n",
      "Pokemon:  PorygonZ\n",
      "Pokemon:  Gallade\n",
      "Pokemon:  Probopass\n",
      "Pokemon:  Probopass\n",
      "Article Dowloaded\n",
      "\n",
      "Pokemon:  Dusknoir\n",
      "Pokemon:  Froslass\n",
      "Pokemon:  Rotom\n",
      "Pokemon:  Uxie\n",
      "Pokemon:  Mesprit\n",
      "Pokemon:  Azelf\n",
      "Pokemon:  Dialga\n",
      "Pokemon:  Palkia\n",
      "Pokemon:  Heatran\n",
      "Pokemon:  Regigigas\n"
     ]
    }
   ],
   "source": [
    "for pokemon in gen4['Name'][50:100]:\n",
    "\n",
    "    if done4.get(pokemon):\n",
    "        continue\n",
    "    else:\n",
    "        done4[pokemon] = pokemon\n",
    "\n",
    "    print(\"Pokemon: \", pokemon)\n",
    "    article = getRawArticle(pokemon)\n",
    "\n",
    "    if article != None:\n",
    "\n",
    "        if checkArticleUniqueness(article):\n",
    "            sumOfUniqueArticles = sumOfUniqueArticles + 1\n",
    "            rawArticletoPDF(article, pokemon)\n",
    "        else:\n",
    "            continue\n",
    "\n",
    "    else:\n",
    "        continue"
   ]
  },
  {
   "cell_type": "code",
   "execution_count": 16,
   "metadata": {},
   "outputs": [
    {
     "name": "stdout",
     "output_type": "stream",
     "text": [
      "Pokemon:  Giratina\n",
      "Pokemon:  Cresselia\n",
      "Pokemon:  Phione\n",
      "Pokemon:  Manaphy\n",
      "Pokemon:  Darkrai\n",
      "Pokemon:  Shaymin\n",
      "Pokemon:  Arceus\n"
     ]
    }
   ],
   "source": [
    "for pokemon in gen4['Name'][100:]:\n",
    "\n",
    "    if done4.get(pokemon):\n",
    "        continue\n",
    "    else:\n",
    "        done4[pokemon] = pokemon\n",
    "\n",
    "    print(\"Pokemon: \", pokemon)\n",
    "    article = getRawArticle(pokemon)\n",
    "\n",
    "    if article != None:\n",
    "\n",
    "        if checkArticleUniqueness(article):\n",
    "            sumOfUniqueArticles = sumOfUniqueArticles + 1\n",
    "            rawArticletoPDF(article, pokemon)\n",
    "        else:\n",
    "            continue\n",
    "\n",
    "    else:\n",
    "        continue"
   ]
  },
  {
   "cell_type": "markdown",
   "metadata": {},
   "source": [
    "# Gen 5"
   ]
  },
  {
   "cell_type": "code",
   "execution_count": 31,
   "metadata": {},
   "outputs": [
    {
     "data": {
      "text/plain": [
       "'Tepig'"
      ]
     },
     "execution_count": 31,
     "metadata": {},
     "output_type": "execute_result"
    }
   ],
   "source": [
    "len(gen5)\n",
    "done5 = {}\n",
    "gen5['Name'][4]"
   ]
  },
  {
   "cell_type": "code",
   "execution_count": null,
   "metadata": {},
   "outputs": [],
   "source": [
    "# special function changes with each generation\n",
    "url = 'https://en.wikipedia.org/api/rest_v1/page/pdf/Tepig%20(Pokémon)' \n",
    "response = requests.get(url)\n",
    "response.raise_for_status()\n",
    "article = response.content\n",
    "rawArticletoPDF(article, 'Servine')\n",
    "#unUniqueArticle = response.content\n",
    "\n",
    "\n",
    "def checkArticleUniqueness(article):\n",
    "    if article != unUniqueArticle:\n",
    "        return True\n",
    "    else:\n",
    "        return False"
   ]
  },
  {
   "cell_type": "markdown",
   "metadata": {},
   "source": [
    "## seems like wiki got lazy so I can too"
   ]
  },
  {
   "cell_type": "code",
   "execution_count": 33,
   "metadata": {},
   "outputs": [
    {
     "name": "stdout",
     "output_type": "stream",
     "text": [
      "Pokemon:  Victini\n",
      "Pokemon:  Snivy\n",
      "Pokemon:  Servine\n",
      "Pokemon:  Serperior\n",
      "Pokemon:  Tepig\n",
      "Pokemon:  Pignite\n",
      "Pokemon:  Emboar\n",
      "Pokemon:  Oshawott\n",
      "Pokemon:  Dewott\n",
      "Pokemon:  Samurott\n",
      "Pokemon:  Patrat\n",
      "Pokemon:  Watchog\n",
      "Pokemon:  Lillipup\n",
      "Pokemon:  Herdier\n",
      "Pokemon:  Stoutland\n",
      "Pokemon:  Purrloin\n",
      "Pokemon:  Liepard\n",
      "Pokemon:  Pansage\n",
      "Pokemon:  Simisage\n",
      "Pokemon:  Pansear\n",
      "Pokemon:  Simisear\n",
      "Pokemon:  Panpour\n",
      "Pokemon:  Simipour\n",
      "Pokemon:  Munna\n",
      "Pokemon:  Musharna\n",
      "Pokemon:  Pidove\n",
      "Pokemon:  Tranquill\n",
      "Pokemon:  Unfezant\n",
      "Pokemon:  Blitzle\n",
      "Pokemon:  Zebstrika\n",
      "Pokemon:  Roggenrola\n",
      "Pokemon:  Boldore\n",
      "Pokemon:  Gigalith\n",
      "Pokemon:  Woobat\n",
      "Pokemon:  Swoobat\n",
      "Pokemon:  Drilbur\n",
      "Pokemon:  Excadrill\n",
      "Pokemon:  Audino\n",
      "Pokemon:  Timburr\n",
      "Pokemon:  Gurdurr\n",
      "Pokemon:  Conkeldurr\n",
      "Pokemon:  Tympole\n",
      "Pokemon:  Palpitoad\n",
      "Pokemon:  Seismitoad\n",
      "Pokemon:  Throh\n",
      "Pokemon:  Sawk\n",
      "Pokemon:  Sewaddle\n",
      "Pokemon:  Swadloon\n",
      "Pokemon:  Leavanny\n",
      "Pokemon:  Venipede\n",
      "Pokemon:  Whirlipede\n",
      "Pokemon:  Scolipede\n",
      "Pokemon:  Cottonee\n",
      "Pokemon:  Whimsicott\n",
      "Pokemon:  Petilil\n",
      "Pokemon:  Lilligant\n",
      "Pokemon:  Basculin\n",
      "Pokemon:  Sandile\n",
      "Pokemon:  Krokorok\n",
      "Pokemon:  Krookodile\n",
      "Pokemon:  Darumaka\n",
      "Pokemon:  Darmanitan\n",
      "Pokemon:  Maractus\n",
      "Pokemon:  Dwebble\n",
      "Pokemon:  Crustle\n",
      "Pokemon:  Scraggy\n",
      "Pokemon:  Scrafty\n",
      "Pokemon:  Sigilyph\n",
      "Pokemon:  Yamask\n",
      "Pokemon:  Cofagrigus\n",
      "Pokemon:  Tirtouga\n",
      "Pokemon:  Carracosta\n",
      "Pokemon:  Archen\n",
      "Pokemon:  Archeops\n",
      "Pokemon:  Trubbish\n",
      "Pokemon:  Garbodor\n",
      "Pokemon:  Zorua\n",
      "Pokemon:  Zoroark\n",
      "Pokemon:  Minccino\n",
      "Pokemon:  Cinccino\n",
      "Pokemon:  Gothita\n",
      "Pokemon:  Gothorita\n",
      "Pokemon:  Gothitelle\n",
      "Pokemon:  Solosis\n",
      "Pokemon:  Duosion\n",
      "Pokemon:  Reuniclus\n",
      "Pokemon:  Ducklett\n",
      "Pokemon:  Swanna\n",
      "Pokemon:  Vanillite\n",
      "Pokemon:  Vanillish\n",
      "Pokemon:  Vanilluxe\n",
      "Pokemon:  Deerling\n",
      "Pokemon:  Sawsbuck\n",
      "Pokemon:  Emolga\n",
      "Pokemon:  Karrablast\n",
      "Pokemon:  Escavalier\n",
      "Pokemon:  Foongus\n",
      "Pokemon:  Amoonguss\n",
      "Pokemon:  Frillish\n",
      "Pokemon:  Jellicent\n",
      "Pokemon:  Alomomola\n",
      "Pokemon:  Joltik\n",
      "Pokemon:  Galvantula\n",
      "Pokemon:  Ferroseed\n",
      "Pokemon:  Ferrothorn\n",
      "Pokemon:  Klink\n",
      "Pokemon:  Klang\n",
      "Pokemon:  Klinklang\n",
      "Pokemon:  Tynamo\n",
      "Pokemon:  Eelektrik\n",
      "Pokemon:  Eelektross\n",
      "Pokemon:  Elgyem\n",
      "Pokemon:  Beheeyem\n",
      "Pokemon:  Litwick\n",
      "Pokemon:  Lampent\n",
      "Pokemon:  Chandelure\n",
      "Pokemon:  Axew\n",
      "Pokemon:  Fraxure\n",
      "Pokemon:  Haxorus\n",
      "Pokemon:  Cubchoo\n",
      "Pokemon:  Beartic\n",
      "Pokemon:  Cryogonal\n",
      "Pokemon:  Shelmet\n",
      "Pokemon:  Accelgor\n",
      "Pokemon:  Stunfisk\n",
      "Pokemon:  Mienfoo\n",
      "Pokemon:  Mienshao\n",
      "Pokemon:  Druddigon\n",
      "Pokemon:  Golett\n",
      "Pokemon:  Golurk\n",
      "Pokemon:  Pawniard\n",
      "Pokemon:  Bisharp\n",
      "Pokemon:  Bouffalant\n",
      "Pokemon:  Rufflet\n",
      "Pokemon:  Braviary\n",
      "Pokemon:  Vullaby\n",
      "Pokemon:  Mandibuzz\n",
      "Pokemon:  Heatmor\n",
      "Pokemon:  Durant\n",
      "Pokemon:  Deino\n",
      "Pokemon:  Zweilous\n",
      "Pokemon:  Hydreigon\n",
      "Pokemon:  Larvesta\n",
      "Pokemon:  Volcarona\n",
      "Pokemon:  Cobalion\n",
      "Pokemon:  Terrakion\n",
      "Pokemon:  Virizion\n",
      "Pokemon:  Tornadus\n",
      "Pokemon:  Thundurus\n",
      "Pokemon:  Reshiram\n",
      "Pokemon:  Zekrom\n",
      "Pokemon:  Landorus\n",
      "Pokemon:  Kyurem\n",
      "Pokemon:  Keldeo\n",
      "Pokemon:  Meloetta\n",
      "Pokemon:  Genesect\n"
     ]
    }
   ],
   "source": [
    "for pokemon in gen5['Name'][0:]:\n",
    "\n",
    "    if done5.get(pokemon):\n",
    "        continue\n",
    "    else:\n",
    "        done5[pokemon] = pokemon\n",
    "\n",
    "    print(\"Pokemon: \", pokemon)\n",
    "    article = getRawArticle(pokemon)\n",
    "\n",
    "    if article != None:\n",
    "\n",
    "        #if checkArticleUniqueness(article):\n",
    "\n",
    "        sumOfUniqueArticles = sumOfUniqueArticles + 1\n",
    "        rawArticletoPDF(article, pokemon)\n",
    "\n",
    "        #else:\n",
    "            #continue\n",
    "\n",
    "    else:\n",
    "        continue"
   ]
  },
  {
   "cell_type": "markdown",
   "metadata": {},
   "source": [
    "# Gen 6"
   ]
  },
  {
   "cell_type": "code",
   "execution_count": 35,
   "metadata": {},
   "outputs": [
    {
     "data": {
      "text/plain": [
       "'Chespin'"
      ]
     },
     "execution_count": 35,
     "metadata": {},
     "output_type": "execute_result"
    }
   ],
   "source": [
    "len(gen6)\n",
    "done6 = {}\n",
    "gen6['Name'][0]"
   ]
  },
  {
   "cell_type": "code",
   "execution_count": null,
   "metadata": {},
   "outputs": [],
   "source": [
    "# special function changes with each generation\n",
    "url = 'https://en.wikipedia.org/api/rest_v1/page/pdf/Chespin%20(Pokémon)' \n",
    "response = requests.get(url)\n",
    "response.raise_for_status()\n",
    "article = response.content\n",
    "rawArticletoPDF(article, 'Chespin')\n",
    "#unUniqueArticle = response.content\n",
    "\n",
    "\n",
    "def checkArticleUniqueness(article):\n",
    "    if article != unUniqueArticle:\n",
    "        return True\n",
    "    else:\n",
    "        return False"
   ]
  },
  {
   "cell_type": "markdown",
   "metadata": {},
   "source": [
    "## wiki got lazy again"
   ]
  },
  {
   "cell_type": "code",
   "execution_count": 37,
   "metadata": {},
   "outputs": [
    {
     "name": "stdout",
     "output_type": "stream",
     "text": [
      "Pokemon:  Chespin\n",
      "Pokemon:  Quilladin\n",
      "Pokemon:  Chesnaught\n",
      "Pokemon:  Fennekin\n",
      "Pokemon:  Braixen\n",
      "Pokemon:  Delphox\n",
      "Pokemon:  Froakie\n",
      "Pokemon:  Frogadier\n",
      "Pokemon:  Greninja\n",
      "Pokemon:  Bunnelby\n",
      "Pokemon:  Diggersby\n",
      "Pokemon:  Fletchling\n",
      "Pokemon:  Fletchinder\n",
      "Pokemon:  Talonflame\n",
      "Pokemon:  Scatterbug\n",
      "Pokemon:  Spewpa\n",
      "Pokemon:  Vivillon\n",
      "Pokemon:  Litleo\n",
      "Pokemon:  Pyroar\n",
      "Pokemon:  Flabb\n",
      "Pokemon:  Floette\n",
      "Pokemon:  Florges\n",
      "Pokemon:  Skiddo\n",
      "Pokemon:  Gogoat\n",
      "Pokemon:  Pancham\n",
      "Pokemon:  Pangoro\n",
      "Pokemon:  Furfrou\n",
      "Pokemon:  Espurr\n",
      "Pokemon:  Meowstic\n",
      "Pokemon:  Honedge\n",
      "Pokemon:  Doublade\n",
      "Pokemon:  Aegislash\n",
      "Pokemon:  Spritzee\n",
      "Pokemon:  Aromatisse\n",
      "Pokemon:  Swirlix\n",
      "Pokemon:  Slurpuff\n",
      "Pokemon:  Inkay\n",
      "Pokemon:  Malamar\n",
      "Pokemon:  Binacle\n",
      "Pokemon:  Barbaracle\n",
      "Pokemon:  Skrelp\n",
      "Pokemon:  Dragalge\n",
      "Pokemon:  Clauncher\n",
      "Pokemon:  Clawitzer\n",
      "Pokemon:  Helioptile\n",
      "Pokemon:  Heliolisk\n",
      "Pokemon:  Tyrunt\n",
      "Pokemon:  Tyrantrum\n",
      "Pokemon:  Amaura\n",
      "Pokemon:  Aurorus\n",
      "Pokemon:  Sylveon\n",
      "Pokemon:  Hawlucha\n",
      "Pokemon:  Dedenne\n",
      "Pokemon:  Carbink\n",
      "Pokemon:  Goomy\n",
      "Pokemon:  Sliggoo\n",
      "Pokemon:  Goodra\n",
      "Pokemon:  Klefki\n",
      "Pokemon:  Phantump\n",
      "Pokemon:  Trevenant\n",
      "Pokemon:  Pumpkaboo\n",
      "Pokemon:  Gourgeist\n",
      "Pokemon:  Bergmite\n",
      "Pokemon:  Avalugg\n",
      "Pokemon:  Noibat\n",
      "Pokemon:  Noivern\n",
      "Pokemon:  Xerneas\n",
      "Pokemon:  Yveltal\n",
      "Pokemon:  Zygarde\n",
      "Pokemon:  Diancie\n",
      "Pokemon:  Hoopa\n",
      "Pokemon:  Volcanion\n"
     ]
    }
   ],
   "source": [
    "for pokemon in gen6['Name'][0:]:\n",
    "\n",
    "    if done6.get(pokemon):\n",
    "        continue\n",
    "    else:\n",
    "        done6[pokemon] = pokemon\n",
    "\n",
    "    print(\"Pokemon: \", pokemon)\n",
    "    article = getRawArticle(pokemon)\n",
    "\n",
    "    if article != None:\n",
    "\n",
    "        #if checkArticleUniqueness(article):\n",
    "\n",
    "        sumOfUniqueArticles = sumOfUniqueArticles + 1\n",
    "        rawArticletoPDF(article, pokemon)\n",
    "\n",
    "        #else:\n",
    "            #continue\n",
    "\n",
    "    else:\n",
    "        continue"
   ]
  },
  {
   "cell_type": "markdown",
   "metadata": {},
   "source": [
    "# Gen 7"
   ]
  },
  {
   "cell_type": "code",
   "execution_count": 20,
   "metadata": {},
   "outputs": [
    {
     "data": {
      "text/plain": [
       "'Rowlet'"
      ]
     },
     "execution_count": 20,
     "metadata": {},
     "output_type": "execute_result"
    }
   ],
   "source": [
    "len(gen7)\n",
    "done7 = {}\n",
    "gen7['Name'][0]"
   ]
  },
  {
   "cell_type": "code",
   "execution_count": 12,
   "metadata": {},
   "outputs": [],
   "source": [
    "# special function changes with each generation\n",
    "url = 'https://en.wikipedia.org/api/rest_v1/page/pdf/Rowlet%20(Pokémon)' \n",
    "response = requests.get(url)\n",
    "response.raise_for_status()\n",
    "#article = response.content\n",
    "#rawArticletoPDF(article, 'Rowlet')\n",
    "unUniqueArticle = response.content\n",
    "\n",
    "\n",
    "def checkArticleUniqueness(article):\n",
    "    if article != unUniqueArticle:\n",
    "        return True\n",
    "    else:\n",
    "        return False"
   ]
  },
  {
   "cell_type": "markdown",
   "metadata": {},
   "source": [
    "## okay so wiki decided not to be lazy anymore"
   ]
  },
  {
   "cell_type": "code",
   "execution_count": 13,
   "metadata": {},
   "outputs": [
    {
     "name": "stdout",
     "output_type": "stream",
     "text": [
      "Pokemon:  Rowlet\n",
      "Pokemon:  Dartrix\n",
      "Pokemon:  Decidueye\n",
      "Pokemon:  Litten\n",
      "Pokemon:  Torracat\n",
      "Pokemon:  Incineroar\n",
      "Pokemon:  Popplio\n",
      "Pokemon:  Popplio\n",
      "Article Dowloaded\n",
      "\n",
      "Pokemon:  Brionne\n",
      "Pokemon:  Primarina\n",
      "Pokemon:  Pikipek\n",
      "Pokemon:  Trumbeak\n",
      "Pokemon:  Toucannon\n",
      "Pokemon:  Yungoos\n",
      "Pokemon:  Gumshoos\n",
      "Pokemon:  Grubbin\n",
      "Pokemon:  Charjabug\n",
      "Pokemon:  Vikavolt\n",
      "Pokemon:  Crabrawler\n",
      "Pokemon:  Crabominable\n",
      "Pokemon:  Oricorio\n",
      "Pokemon:  Cutiefly\n",
      "Pokemon:  Ribombee\n",
      "Pokemon:  Rockruff\n",
      "Pokemon:  Lycanroc\n",
      "Pokemon:  Wishiwashi\n",
      "Pokemon:  Mareanie\n",
      "Pokemon:  Toxapex\n",
      "Pokemon:  Mudbray\n",
      "Pokemon:  Mudsdale\n",
      "Pokemon:  Dewpider\n",
      "Pokemon:  Araquanid\n",
      "Pokemon:  Fomantis\n",
      "Pokemon:  Lurantis\n",
      "Pokemon:  Morelull\n",
      "Pokemon:  Shiinotic\n",
      "Pokemon:  Salandit\n",
      "Pokemon:  Salazzle\n",
      "Pokemon:  Stufful\n",
      "Pokemon:  Bewear\n",
      "Pokemon:  Bounsweet\n",
      "Pokemon:  Steenee\n",
      "Pokemon:  Tsareena\n",
      "Pokemon:  Comfey\n",
      "Pokemon:  Oranguru\n",
      "Pokemon:  Passimian\n",
      "Pokemon:  Wimpod\n",
      "Pokemon:  Golisopod\n",
      "Pokemon:  Sandygast\n",
      "Pokemon:  Palossand\n",
      "Pokemon:  Pyukumuku\n"
     ]
    }
   ],
   "source": [
    "for pokemon in gen7['Name'][0:50]:\n",
    "\n",
    "    if done7.get(pokemon):\n",
    "        continue\n",
    "    else:\n",
    "        done7[pokemon] = pokemon\n",
    "\n",
    "    print(\"Pokemon: \", pokemon)\n",
    "    article = getRawArticle(pokemon)\n",
    "\n",
    "    if article != None:\n",
    "\n",
    "        if checkArticleUniqueness(article):\n",
    "\n",
    "            sumOfUniqueArticles = sumOfUniqueArticles + 1\n",
    "            rawArticletoPDF(article, pokemon)\n",
    "\n",
    "        else:\n",
    "            continue\n",
    "\n",
    "    else:\n",
    "        continue"
   ]
  },
  {
   "cell_type": "code",
   "execution_count": 15,
   "metadata": {},
   "outputs": [
    {
     "name": "stdout",
     "output_type": "stream",
     "text": [
      "Pokemon:  TypeNull\n",
      "Pokemon:  Silvally\n",
      "Pokemon:  Minior\n",
      "Pokemon:  Komala\n",
      "Pokemon:  Turtonator\n",
      "Pokemon:  Togedemaru\n",
      "Pokemon:  Mimikyu\n",
      "Pokemon:  Mimikyu\n",
      "Article Dowloaded\n",
      "\n",
      "Pokemon:  Bruxish\n",
      "Pokemon:  Drampa\n",
      "Pokemon:  Dhelmise\n",
      "Pokemon:  Jangmoo\n",
      "Pokemon:  Hakamoo\n",
      "Pokemon:  Kommoo\n",
      "Pokemon:  TapuKoko\n",
      "Pokemon:  TapuLele\n",
      "Pokemon:  TapuBulu\n",
      "Pokemon:  TapuFini\n",
      "Pokemon:  Cosmog\n",
      "Pokemon:  Cosmoem\n",
      "Pokemon:  Solgaleo\n",
      "Pokemon:  Lunala\n",
      "Pokemon:  Nihilego\n",
      "Pokemon:  Buzzwole\n",
      "Pokemon:  Pheromosa\n",
      "Pokemon:  Xurkitree\n",
      "Pokemon:  Celesteela\n",
      "Pokemon:  Kartana\n",
      "Pokemon:  Guzzlord\n",
      "Pokemon:  Necrozma\n",
      "Pokemon:  Magearna\n",
      "Pokemon:  Marshadow\n",
      "Pokemon:  Poipole\n",
      "Pokemon:  Naganadel\n",
      "Pokemon:  Stakataka\n",
      "Pokemon:  Blacephalon\n",
      "Pokemon:  Zeraora\n",
      "Pokemon:  Meltan\n",
      "Pokemon:  Melmetal\n"
     ]
    }
   ],
   "source": [
    "for pokemon in gen7['Name'][50:]:\n",
    "\n",
    "    if done7.get(pokemon):\n",
    "        continue\n",
    "    else:\n",
    "        done7[pokemon] = pokemon\n",
    "\n",
    "    print(\"Pokemon: \", pokemon)\n",
    "    article = getRawArticle(pokemon)\n",
    "\n",
    "    if article != None:\n",
    "\n",
    "        if checkArticleUniqueness(article):\n",
    "\n",
    "            sumOfUniqueArticles = sumOfUniqueArticles + 1\n",
    "            rawArticletoPDF(article, pokemon)\n",
    "\n",
    "        else:\n",
    "            continue\n",
    "\n",
    "    else:\n",
    "        continue"
   ]
  },
  {
   "cell_type": "code",
   "execution_count": null,
   "metadata": {},
   "outputs": [],
   "source": []
  },
  {
   "cell_type": "markdown",
   "metadata": {},
   "source": [
    "# Gen 8"
   ]
  },
  {
   "cell_type": "code",
   "execution_count": 18,
   "metadata": {},
   "outputs": [
    {
     "name": "stdout",
     "output_type": "stream",
     "text": [
      "96\n"
     ]
    },
    {
     "data": {
      "text/plain": [
       "'Thwackey'"
      ]
     },
     "execution_count": 18,
     "metadata": {},
     "output_type": "execute_result"
    }
   ],
   "source": [
    "print(len(gen8))\n",
    "done8 = {}\n",
    "gen8['Name'][1]"
   ]
  },
  {
   "cell_type": "code",
   "execution_count": null,
   "metadata": {},
   "outputs": [],
   "source": [
    "# special function changes with each generation\n",
    "url = 'https://en.wikipedia.org/api/rest_v1/page/pdf/Thwackey%20(Pokémon)' \n",
    "response = requests.get(url)\n",
    "response.raise_for_status()\n",
    "#article = response.content\n",
    "#rawArticletoPDF(article, 'Grookey')\n",
    "#unUniqueArticle = response.content\n",
    "\n",
    "\n",
    "def checkArticleUniqueness(article):\n",
    "    if article != unUniqueArticle:\n",
    "        return True\n",
    "    else:\n",
    "        return False"
   ]
  },
  {
   "cell_type": "markdown",
   "metadata": {},
   "source": [
    "## seems like wiki got lazy again"
   ]
  },
  {
   "cell_type": "code",
   "execution_count": 21,
   "metadata": {},
   "outputs": [
    {
     "name": "stdout",
     "output_type": "stream",
     "text": [
      "Pokemon:  Grookey\n",
      "Pokemon:  Thwackey\n",
      "Pokemon:  Rillaboom\n",
      "Pokemon:  Scorbunny\n",
      "Pokemon:  Raboot\n",
      "Pokemon:  Cinderace\n",
      "Pokemon:  Sobble\n",
      "Pokemon:  Drizzile\n",
      "Pokemon:  Inteleon\n",
      "Pokemon:  Skwovet\n",
      "Pokemon:  Greedent\n",
      "Pokemon:  Rookidee\n",
      "Pokemon:  Corvisquire\n",
      "Pokemon:  Corviknight\n",
      "Pokemon:  Blipbug\n",
      "Pokemon:  Dottler\n",
      "Pokemon:  Orbeetle\n",
      "Pokemon:  Nickit\n",
      "Pokemon:  Thievul\n",
      "Pokemon:  Gossifleur\n",
      "Pokemon:  Eldegoss\n",
      "Pokemon:  Wooloo\n",
      "Pokemon:  Dubwool\n",
      "Pokemon:  Chewtle\n",
      "Pokemon:  Drednaw\n",
      "Pokemon:  Yamper\n",
      "Pokemon:  Boltund\n",
      "Pokemon:  Rolycoly\n",
      "Pokemon:  Carkol\n",
      "Pokemon:  Coalossal\n",
      "Pokemon:  Applin\n",
      "Pokemon:  Flapple\n",
      "Pokemon:  Appletun\n",
      "Pokemon:  Silicobra\n",
      "Pokemon:  Sandaconda\n",
      "Pokemon:  Cramorant\n",
      "Pokemon:  Arrokuda\n",
      "Pokemon:  Barraskewda\n",
      "Pokemon:  Toxel\n",
      "Pokemon:  Toxtricity\n",
      "Pokemon:  Sizzlipede\n",
      "Pokemon:  Centiskorch\n",
      "Pokemon:  Clobbopus\n",
      "Pokemon:  Grapploct\n",
      "Pokemon:  Sinistea\n",
      "Pokemon:  Polteageist\n",
      "Pokemon:  Hatenna\n",
      "Pokemon:  Hattrem\n",
      "Pokemon:  Hatterene\n",
      "Pokemon:  Impidimp\n",
      "Pokemon:  Morgrem\n",
      "Pokemon:  Grimmsnarl\n",
      "Pokemon:  Obstagoon\n",
      "Pokemon:  Perrserker\n",
      "Pokemon:  Cursola\n",
      "Pokemon:  Sirfetchd\n",
      "Pokemon:  MrRime\n",
      "Pokemon:  Runerigus\n",
      "Pokemon:  Milcery\n",
      "Pokemon:  Alcremie\n",
      "Pokemon:  Falinks\n",
      "Pokemon:  Pincurchin\n",
      "Pokemon:  Snom\n",
      "Pokemon:  Frosmoth\n",
      "Pokemon:  Stonjourner\n",
      "Pokemon:  Eiscue\n",
      "Pokemon:  Indeedee\n",
      "Pokemon:  Morpeko\n",
      "Pokemon:  Cufant\n",
      "Pokemon:  Copperajah\n",
      "Pokemon:  Dracozolt\n",
      "Pokemon:  Arctozolt\n",
      "Pokemon:  Dracovish\n",
      "Pokemon:  Arctovish\n",
      "Pokemon:  Duraludon\n",
      "Pokemon:  Dreepy\n",
      "Pokemon:  Drakloak\n",
      "Pokemon:  Dragapult\n",
      "Pokemon:  Zacian\n",
      "Pokemon:  Zamazenta\n",
      "Pokemon:  Eternatus\n",
      "Pokemon:  Kubfu\n",
      "Pokemon:  Urshifu\n",
      "Pokemon:  Zarude\n",
      "Pokemon:  Regieleki\n",
      "Pokemon:  Regidrago\n",
      "Pokemon:  Glastrier\n",
      "Pokemon:  Spectrier\n",
      "Pokemon:  Calyrex\n",
      "Pokemon:  Wyrdeer\n",
      "Pokemon:  Kleavor\n",
      "Pokemon:  Ursaluna\n",
      "Pokemon:  Basculegion\n",
      "Pokemon:  Sneasler\n",
      "Pokemon:  Overqwil\n",
      "Pokemon:  Enamorus\n"
     ]
    }
   ],
   "source": [
    "for pokemon in gen8['Name'][0:]:\n",
    "\n",
    "    if done8.get(pokemon):\n",
    "        continue\n",
    "    else:\n",
    "        done8[pokemon] = pokemon\n",
    "\n",
    "    print(\"Pokemon: \", pokemon)\n",
    "    article = getRawArticle(pokemon)\n",
    "\n",
    "    if article != None:\n",
    "\n",
    "        #if checkArticleUniqueness(article):\n",
    "\n",
    "        sumOfUniqueArticles = sumOfUniqueArticles + 1\n",
    "        rawArticletoPDF(article, pokemon)\n",
    "\n",
    "        #else:\n",
    "            #continue\n",
    "\n",
    "    else:\n",
    "        continue"
   ]
  },
  {
   "cell_type": "markdown",
   "metadata": {},
   "source": [
    "# Gen 9"
   ]
  },
  {
   "cell_type": "code",
   "execution_count": 25,
   "metadata": {},
   "outputs": [
    {
     "name": "stdout",
     "output_type": "stream",
     "text": [
      "10\n"
     ]
    },
    {
     "data": {
      "text/plain": [
       "'Quaxly'"
      ]
     },
     "execution_count": 25,
     "metadata": {},
     "output_type": "execute_result"
    }
   ],
   "source": [
    "print(len(gen9))\n",
    "done9 = {}\n",
    "gen9['Name'][2]"
   ]
  },
  {
   "cell_type": "code",
   "execution_count": null,
   "metadata": {},
   "outputs": [],
   "source": [
    "# special function changes with each generation\n",
    "url = 'https://en.wikipedia.org/api/rest_v1/page/pdf/Quaxly%20(Pokémon)' \n",
    "response = requests.get(url)\n",
    "response.raise_for_status()\n",
    "article = response.content\n",
    "rawArticletoPDF(article, 'Fuecoco')\n",
    "unUniqueArticle = response.content\n",
    "\n",
    "\n",
    "def checkArticleUniqueness(article):\n",
    "    if article != unUniqueArticle:\n",
    "        return True\n",
    "    else:\n",
    "        return False"
   ]
  },
  {
   "cell_type": "markdown",
   "metadata": {},
   "source": [
    "## wiki got lazy yet again"
   ]
  },
  {
   "cell_type": "code",
   "execution_count": 27,
   "metadata": {},
   "outputs": [
    {
     "name": "stdout",
     "output_type": "stream",
     "text": [
      "Pokemon:  Sprigatito\n",
      "Pokemon:  Fuecoco\n",
      "Pokemon:  Quaxly\n",
      "Pokemon:  Pawmi\n",
      "Pokemon:  Lechonk\n",
      "Pokemon:  Smoliv\n",
      "Pokemon:  Fidough\n",
      "Pokemon:  Cetitan\n",
      "Pokemon:  Koraidon\n",
      "Pokemon:  Miraidon\n"
     ]
    }
   ],
   "source": [
    "for pokemon in gen9['Name'][0:]:\n",
    "\n",
    "    if done9.get(pokemon):\n",
    "        continue\n",
    "    else:\n",
    "        done9[pokemon] = pokemon\n",
    "\n",
    "    print(\"Pokemon: \", pokemon)\n",
    "    article = getRawArticle(pokemon)\n",
    "\n",
    "    if article != None:\n",
    "\n",
    "        #if checkArticleUniqueness(article):\n",
    "\n",
    "        sumOfUniqueArticles = sumOfUniqueArticles + 1\n",
    "        rawArticletoPDF(article, pokemon)\n",
    "\n",
    "        #else:\n",
    "            #continue\n",
    "\n",
    "    else:\n",
    "        continue"
   ]
  },
  {
   "cell_type": "markdown",
   "metadata": {},
   "source": [
    "# Done 👍🏾"
   ]
  }
 ],
 "metadata": {
  "interpreter": {
   "hash": "369f2c481f4da34e4445cda3fffd2e751bd1c4d706f27375911949ba6bb62e1c"
  },
  "kernelspec": {
   "display_name": "Python 3.10.4 64-bit",
   "language": "python",
   "name": "python3"
  },
  "language_info": {
   "codemirror_mode": {
    "name": "ipython",
    "version": 3
   },
   "file_extension": ".py",
   "mimetype": "text/x-python",
   "name": "python",
   "nbconvert_exporter": "python",
   "pygments_lexer": "ipython3",
   "version": "3.10.4"
  },
  "orig_nbformat": 4,
  "vscode": {
   "interpreter": {
    "hash": "369f2c481f4da34e4445cda3fffd2e751bd1c4d706f27375911949ba6bb62e1c"
   }
  }
 },
 "nbformat": 4,
 "nbformat_minor": 2
}
