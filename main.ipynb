{
 "cells": [
  {
   "cell_type": "markdown",
   "metadata": {},
   "source": [
    "# Scraping Pokemon Wikipedia articles"
   ]
  },
  {
   "cell_type": "code",
   "execution_count": 1,
   "metadata": {},
   "outputs": [],
   "source": [
    "# import the needed libraries\n",
    "import requests\n",
    "import pandas as pd\n",
    "import re\n",
    "import os\n"
   ]
  },
  {
   "cell_type": "code",
   "execution_count": 2,
   "metadata": {},
   "outputs": [
    {
     "name": "stdout",
     "output_type": "stream",
     "text": [
      "You've already created this Folder Dummy!\n"
     ]
    }
   ],
   "source": [
    "# create article directory\n",
    "directory = \"\\\\articles\"\n",
    "\n",
    "parentDirectory = os.getcwdb().decode('utf-8')\n",
    "\n",
    "path = parentDirectory + directory\n",
    "\n",
    "try:\n",
    "    os.mkdir(path)\n",
    "except OSError as error:\n",
    "    print(\"You've already created this Folder Dummy!\")"
   ]
  },
  {
   "cell_type": "code",
   "execution_count": 3,
   "metadata": {},
   "outputs": [],
   "source": [
    "df = pd.read_excel('generations/generation1.xls')"
   ]
  },
  {
   "cell_type": "code",
   "execution_count": 4,
   "metadata": {},
   "outputs": [
    {
     "data": {
      "text/html": [
       "<div>\n",
       "<style scoped>\n",
       "    .dataframe tbody tr th:only-of-type {\n",
       "        vertical-align: middle;\n",
       "    }\n",
       "\n",
       "    .dataframe tbody tr th {\n",
       "        vertical-align: top;\n",
       "    }\n",
       "\n",
       "    .dataframe thead th {\n",
       "        text-align: right;\n",
       "    }\n",
       "</style>\n",
       "<table border=\"1\" class=\"dataframe\">\n",
       "  <thead>\n",
       "    <tr style=\"text-align: right;\">\n",
       "      <th></th>\n",
       "      <th>Name</th>\n",
       "    </tr>\n",
       "  </thead>\n",
       "  <tbody>\n",
       "    <tr>\n",
       "      <th>0</th>\n",
       "      <td>Bulbasaur †</td>\n",
       "    </tr>\n",
       "    <tr>\n",
       "      <th>1</th>\n",
       "      <td>Ivysaur</td>\n",
       "    </tr>\n",
       "    <tr>\n",
       "      <th>2</th>\n",
       "      <td>Venusaur</td>\n",
       "    </tr>\n",
       "    <tr>\n",
       "      <th>3</th>\n",
       "      <td>Charmander†</td>\n",
       "    </tr>\n",
       "    <tr>\n",
       "      <th>4</th>\n",
       "      <td>Charmeleon</td>\n",
       "    </tr>\n",
       "    <tr>\n",
       "      <th>...</th>\n",
       "      <td>...</td>\n",
       "    </tr>\n",
       "    <tr>\n",
       "      <th>146</th>\n",
       "      <td>Dratini</td>\n",
       "    </tr>\n",
       "    <tr>\n",
       "      <th>147</th>\n",
       "      <td>Dragonair</td>\n",
       "    </tr>\n",
       "    <tr>\n",
       "      <th>148</th>\n",
       "      <td>Dragonite</td>\n",
       "    </tr>\n",
       "    <tr>\n",
       "      <th>149</th>\n",
       "      <td>Mewtwo ‡</td>\n",
       "    </tr>\n",
       "    <tr>\n",
       "      <th>150</th>\n",
       "      <td>Mew ♭</td>\n",
       "    </tr>\n",
       "  </tbody>\n",
       "</table>\n",
       "<p>151 rows × 1 columns</p>\n",
       "</div>"
      ],
      "text/plain": [
       "            Name\n",
       "0    Bulbasaur †\n",
       "1        Ivysaur\n",
       "2       Venusaur\n",
       "3    Charmander†\n",
       "4     Charmeleon\n",
       "..           ...\n",
       "146      Dratini\n",
       "147    Dragonair\n",
       "148    Dragonite\n",
       "149     Mewtwo ‡\n",
       "150        Mew ♭\n",
       "\n",
       "[151 rows x 1 columns]"
      ]
     },
     "execution_count": 4,
     "metadata": {},
     "output_type": "execute_result"
    }
   ],
   "source": [
    "df"
   ]
  },
  {
   "cell_type": "code",
   "execution_count": 5,
   "metadata": {},
   "outputs": [],
   "source": [
    "# clean up data a bit\n",
    "for i in range(len(df['Name'])):\n",
    "    df['Name'][i] = re.sub(r'[^A-Za-z]', '', df['Name'][i])\n",
    "    "
   ]
  },
  {
   "cell_type": "code",
   "execution_count": 10,
   "metadata": {},
   "outputs": [
    {
     "data": {
      "text/plain": [
       "'Psyduck'"
      ]
     },
     "execution_count": 10,
     "metadata": {},
     "output_type": "execute_result"
    }
   ],
   "source": [
    "df['Name'][53]"
   ]
  },
  {
   "cell_type": "markdown",
   "metadata": {},
   "source": [
    "## Algorithm and Test"
   ]
  },
  {
   "cell_type": "code",
   "execution_count": 51,
   "metadata": {},
   "outputs": [],
   "source": [
    "# get an article\n",
    "url = 'https://en.wikipedia.org/api/rest_v1/page/pdf/Pikachu%20(Pokémon)' \n",
    "response = requests.get(url)\n",
    "response.raise_for_status()"
   ]
  },
  {
   "cell_type": "code",
   "execution_count": 33,
   "metadata": {},
   "outputs": [
    {
     "data": {
      "text/plain": [
       "int"
      ]
     },
     "execution_count": 33,
     "metadata": {},
     "output_type": "execute_result"
    }
   ],
   "source": [
    "type(response.status_code)"
   ]
  },
  {
   "cell_type": "code",
   "execution_count": 34,
   "metadata": {},
   "outputs": [],
   "source": [
    "with open('articles/Pikachu.pdf', 'wb') as f:\n",
    "    f.write(response.content)"
   ]
  },
  {
   "cell_type": "markdown",
   "metadata": {},
   "source": [
    "### Get articles for every Generation 1 pokemon 1"
   ]
  },
  {
   "cell_type": "code",
   "execution_count": null,
   "metadata": {},
   "outputs": [],
   "source": [
    "for pokemon in df['Name']:\n",
    "    url = 'https://en.wikipedia.org/api/rest_v1/page/pdf/' \n",
    "    url_ending = '%20(Pokémon)'\n",
    "    response = requests.get(url + pokemon + url_ending)\n",
    "    if response.status_code != 200:\n",
    "        continue\n",
    "\n",
    "    with open(f'articles/{pokemon}.pdf', 'wb') as f:\n",
    "        f.write(response.content)"
   ]
  },
  {
   "cell_type": "markdown",
   "metadata": {},
   "source": [
    "## Running the Code above lead me to discover that wikipedia doesn't have a unique article for every pokemon so I modifed the code above to all scrape the unique articles."
   ]
  },
  {
   "cell_type": "code",
   "execution_count": 25,
   "metadata": {},
   "outputs": [],
   "source": [
    "url = 'https://en.wikipedia.org/api/rest_v1/page/pdf/Beedrill%20(Pokémon)' \n",
    "response = requests.get(url)\n",
    "response.raise_for_status()\n",
    "with open('articles/Beedrill.pdf', 'wb') as f:\n",
    "    f.write(response.content)"
   ]
  },
  {
   "cell_type": "code",
   "execution_count": 26,
   "metadata": {},
   "outputs": [],
   "source": [
    "unUniqueArticle = response.content"
   ]
  },
  {
   "cell_type": "markdown",
   "metadata": {},
   "source": [
    "## New and Improved \"Get article for every Generation 1 pokemon\""
   ]
  },
  {
   "cell_type": "code",
   "execution_count": 27,
   "metadata": {},
   "outputs": [],
   "source": [
    "done = []\n",
    "sumOfUniqueArticles = 0"
   ]
  },
  {
   "cell_type": "code",
   "execution_count": 28,
   "metadata": {},
   "outputs": [
    {
     "name": "stdout",
     "output_type": "stream",
     "text": [
      "Pokemon: Bulbasaur\n",
      "Article Dowloaded\n",
      "\n",
      "Pokemon: Ivysaur\n",
      "Pokemon: Venusaur\n",
      "Article Dowloaded\n",
      "\n",
      "Pokemon: Charmander\n",
      "Article Dowloaded\n",
      "\n",
      "Pokemon: Charmeleon\n",
      "Pokemon: Charizard\n",
      "Article Dowloaded\n",
      "\n",
      "Pokemon: Squirtle\n",
      "Article Dowloaded\n",
      "\n",
      "Pokemon: Wartortle\n",
      "Pokemon: Blastoise\n",
      "Pokemon: Caterpie\n",
      "Pokemon: Metapod\n",
      "Pokemon: Butterfree\n",
      "Pokemon: Weedle\n",
      "Pokemon: Kakuna\n",
      "Pokemon: Beedrill\n",
      "Pokemon: Pidgey\n",
      "Pokemon: Pidgeotto\n",
      "Pokemon: Pidgeot\n",
      "Pokemon: Rattata\n",
      "Pokemon: Raticate\n",
      "Pokemon: Spearow\n",
      "Pokemon: Fearow\n",
      "Pokemon: Ekans\n",
      "Pokemon: Arbok\n",
      "Pokemon: Pikachud\n",
      "Pokemon: Raichu\n",
      "Pokemon: Sandshrew\n",
      "Pokemon: Sandslash\n",
      "Pokemon: Nidoran\n",
      "Pokemon: Nidorina\n",
      "Pokemon: Nidoqueen\n",
      "Pokemon: Nidorino\n",
      "Pokemon: Nidoking\n",
      "Pokemon: Clefairy\n",
      "Pokemon: Clefable\n",
      "Pokemon: Vulpix\n",
      "Pokemon: Ninetales\n",
      "Pokemon: Jigglypuff\n",
      "Article Dowloaded\n",
      "\n",
      "Pokemon: Wigglytuff\n",
      "Pokemon: Zubat\n",
      "Pokemon: Golbat\n",
      "Pokemon: Oddish\n",
      "Pokemon: Gloom\n",
      "Pokemon: Vileplume\n",
      "Pokemon: Paras\n",
      "Pokemon: Parasect\n",
      "Pokemon: Venonat\n",
      "Pokemon: Venomoth\n",
      "Pokemon: Diglett\n",
      "Pokemon: Dugtrio\n"
     ]
    }
   ],
   "source": [
    "for pokemon in df['Name'][0:51]:\n",
    "    if pokemon not in done:\n",
    "        done.append(pokemon)\n",
    "    else:\n",
    "        continue\n",
    "    print(\"Pokemon:\", pokemon)\n",
    "    url = 'https://en.wikipedia.org/api/rest_v1/page/pdf/' \n",
    "    url_ending = '%20(Pokémon)'\n",
    "    response = requests.get(url + pokemon + url_ending)\n",
    "    if response.status_code != 200:\n",
    "        continue\n",
    "\n",
    "    if response.content == unUniqueArticle:\n",
    "        continue\n",
    "\n",
    "    with open(f'articles/{pokemon}.pdf', 'wb') as f:\n",
    "        f.write(response.content)\n",
    "        sumOfUniqueArticles = sumOfUniqueArticles + 1\n",
    "        print(\"Article Dowloaded\\n\")"
   ]
  },
  {
   "cell_type": "code",
   "execution_count": 29,
   "metadata": {},
   "outputs": [
    {
     "name": "stdout",
     "output_type": "stream",
     "text": [
      "Pokemon: Meowth\n",
      "Article Dowloaded\n",
      "\n",
      "Pokemon: Persian\n",
      "Pokemon: Psyduck\n",
      "Article Dowloaded\n",
      "\n",
      "Pokemon: Golduck\n",
      "Pokemon: Mankey\n",
      "Pokemon: Primeape\n",
      "Pokemon: Growlithe\n",
      "Pokemon: Arcanine\n",
      "Pokemon: Poliwag\n",
      "Pokemon: Poliwhirl\n",
      "Pokemon: Poliwrath\n",
      "Pokemon: Abra\n",
      "Pokemon: Kadabra\n",
      "Article Dowloaded\n",
      "\n",
      "Pokemon: Alakazam\n",
      "Pokemon: Machop\n",
      "Pokemon: Machoke\n",
      "Pokemon: Machamp\n",
      "Pokemon: Bellsprout\n",
      "Pokemon: Weepinbell\n",
      "Pokemon: Victreebel\n",
      "Pokemon: Tentacool\n",
      "Pokemon: Tentacruel\n",
      "Pokemon: Geodude\n",
      "Pokemon: Graveler\n",
      "Pokemon: Golem\n",
      "Pokemon: Ponyta\n",
      "Pokemon: Rapidash\n",
      "Pokemon: Slowpoke\n",
      "Pokemon: Slowbro\n",
      "Pokemon: Magnemite\n",
      "Pokemon: Magneton\n",
      "Pokemon: Farfetchd\n",
      "Pokemon: Doduo\n",
      "Pokemon: Dodrio\n",
      "Pokemon: Seel\n",
      "Pokemon: Dewgong\n",
      "Pokemon: Grimer\n",
      "Pokemon: Muk\n",
      "Pokemon: Shellder\n",
      "Pokemon: Cloyster\n",
      "Pokemon: Gastly\n",
      "Pokemon: Haunter\n",
      "Pokemon: Gengar\n",
      "Pokemon: Onix\n",
      "Pokemon: Drowzee\n",
      "Pokemon: Hypno\n",
      "Pokemon: Krabby\n",
      "Pokemon: Kingler\n",
      "Pokemon: Voltorb\n",
      "Pokemon: Electrode\n"
     ]
    }
   ],
   "source": [
    "for pokemon in df['Name'][51:101]:\n",
    "    if pokemon not in done:\n",
    "        done.append(pokemon)\n",
    "    else:\n",
    "        continue\n",
    "    print(\"Pokemon:\", pokemon)\n",
    "    url = 'https://en.wikipedia.org/api/rest_v1/page/pdf/' \n",
    "    url_ending = '%20(Pokémon)'\n",
    "    response = requests.get(url + pokemon + url_ending)\n",
    "    if response.status_code != 200:\n",
    "        continue\n",
    "\n",
    "    if response.content == unUniqueArticle:\n",
    "        continue\n",
    "\n",
    "    with open(f'articles/{pokemon}.pdf', 'wb') as f:\n",
    "        f.write(response.content)\n",
    "        sumOfUniqueArticles = sumOfUniqueArticles + 1\n",
    "        print(\"Article Dowloaded\\n\")"
   ]
  },
  {
   "cell_type": "code",
   "execution_count": 30,
   "metadata": {},
   "outputs": [
    {
     "name": "stdout",
     "output_type": "stream",
     "text": [
      "Pokemon: Exeggcute\n",
      "Pokemon: Exeggutor\n",
      "Pokemon: Cubone\n",
      "Pokemon: Marowak\n",
      "Pokemon: Hitmonlee\n",
      "Pokemon: Hitmonchan\n",
      "Pokemon: Lickitung\n",
      "Pokemon: Koffing\n",
      "Pokemon: Weezing\n",
      "Pokemon: Rhyhorn\n",
      "Pokemon: Rhydon\n",
      "Pokemon: Chansey\n",
      "Pokemon: Tangela\n",
      "Pokemon: Kangaskhan\n",
      "Pokemon: Horsea\n",
      "Pokemon: Seadra\n",
      "Pokemon: Goldeen\n",
      "Pokemon: Seaking\n",
      "Pokemon: Staryu\n",
      "Pokemon: Starmie\n",
      "Pokemon: MrMime\n",
      "Pokemon: Scyther\n",
      "Pokemon: Jynx\n",
      "Article Dowloaded\n",
      "\n",
      "Pokemon: Electabuzz\n",
      "Pokemon: Magmar\n",
      "Pokemon: Pinsir\n",
      "Pokemon: Tauros\n",
      "Pokemon: Magikarp\n",
      "Article Dowloaded\n",
      "\n",
      "Pokemon: Gyarados\n",
      "Article Dowloaded\n",
      "\n",
      "Pokemon: Lapras\n",
      "Article Dowloaded\n",
      "\n",
      "Pokemon: Ditto\n",
      "Pokemon: Eeveee\n",
      "Pokemon: Vaporeon\n",
      "Pokemon: Jolteon\n",
      "Pokemon: Flareon\n",
      "Pokemon: Porygon\n",
      "Pokemon: Omanyte\n",
      "Pokemon: Omastar\n",
      "Pokemon: Kabuto\n",
      "Pokemon: Kabutops\n",
      "Pokemon: Aerodactyl\n",
      "Pokemon: Snorlax\n",
      "Article Dowloaded\n",
      "\n",
      "Pokemon: Articuno\n",
      "Pokemon: Zapdos\n",
      "Pokemon: Moltres\n",
      "Pokemon: Dratini\n",
      "Pokemon: Dragonair\n",
      "Pokemon: Dragonite\n",
      "Pokemon: Mewtwo\n",
      "Article Dowloaded\n",
      "\n",
      "Pokemon: Mew\n",
      "Article Dowloaded\n",
      "\n"
     ]
    }
   ],
   "source": [
    "for pokemon in df['Name'][101:]:\n",
    "    if pokemon not in done:\n",
    "        done.append(pokemon)\n",
    "    else:\n",
    "        continue\n",
    "    print(\"Pokemon:\", pokemon)\n",
    "    url = 'https://en.wikipedia.org/api/rest_v1/page/pdf/' \n",
    "    url_ending = '%20(Pokémon)'\n",
    "    response = requests.get(url + pokemon + url_ending)\n",
    "    if response.status_code != 200:\n",
    "        continue\n",
    "\n",
    "    if response.content == unUniqueArticle:\n",
    "        continue\n",
    "\n",
    "    with open(f'articles/{pokemon}.pdf', 'wb') as f:\n",
    "        f.write(response.content)\n",
    "        sumOfUniqueArticles = sumOfUniqueArticles + 1\n",
    "        print(\"Article Dowloaded\\n\")"
   ]
  },
  {
   "cell_type": "code",
   "execution_count": 31,
   "metadata": {},
   "outputs": [
    {
     "data": {
      "text/plain": [
       "16"
      ]
     },
     "execution_count": 31,
     "metadata": {},
     "output_type": "execute_result"
    }
   ],
   "source": [
    "sumOfUniqueArticles"
   ]
  },
  {
   "cell_type": "markdown",
   "metadata": {},
   "source": [
    "# Now for the remain Generations"
   ]
  },
  {
   "cell_type": "code",
   "execution_count": 33,
   "metadata": {},
   "outputs": [],
   "source": [
    "# first I need reuse able code not DRY code\n",
    "url = 'https://en.wikipedia.org/api/rest_v1/page/pdf/Beedrill%20(Pokémon)' \n",
    "response = requests.get(url)\n",
    "response.raise_for_status()\n",
    "unUniqueArticle = response.content\n",
    "\n",
    "\n",
    "def cleanPokemonName(pokemon):\n",
    "    return re.sub('[^A-za-z]', '', pokemon)\n",
    "\n",
    "def getRawArticle(pokemon):\n",
    "    url = 'https://en.wikipedia.org/api/rest_v1/page/pdf/' \n",
    "    url_ending = '%20(Pokémon)'\n",
    "    response = requests.get(url + pokemon + url_ending)\n",
    "    if response.status_code != 200:\n",
    "        return None\n",
    "\n",
    "    return response.content\n",
    "\n",
    "def rawArticletoPDF(article, pokemon):\n",
    "    with open(f'articles/{pokemon}.pdf', 'wb') as f:\n",
    "        print(\"Pokemon: \", pokemon)\n",
    "        f.write(article)\n",
    "        print(\"Article Dowloaded\\n\")\n",
    "    "
   ]
  },
  {
   "cell_type": "code",
   "execution_count": 37,
   "metadata": {},
   "outputs": [],
   "source": [
    "# load all the generations\n",
    "gen2 = pd.read_excel('generations/generation2.xls')\n",
    "gen3 = pd.read_excel('generations/generation3.xls')\n",
    "gen4 = pd.read_excel('generations/generation4.xls')\n",
    "gen5 = pd.read_excel('generations/generation5.xls')\n",
    "gen6 = pd.read_excel('generations/generation6.xls')\n",
    "gen7 = pd.read_excel('generations/generation7.xls')\n",
    "gen8 = pd.read_excel('generations/generation8.xls')\n",
    "gen9 = pd.read_excel('generations/generation9.xls')"
   ]
  },
  {
   "cell_type": "code",
   "execution_count": 56,
   "metadata": {},
   "outputs": [],
   "source": [
    "# clean up data\n",
    "for i in range(len(gen2['Name'])):\n",
    "    gen2['Name'][i] = cleanPokemonName(gen2['Name'][i])\n",
    "\n",
    "for i in range(len(gen3['Name'])):\n",
    "    gen3['Name'][i] = cleanPokemonName(gen3['Name'][i])\n",
    "\n",
    "for i in range(len(gen4['Name'])):\n",
    "    gen4['Name'][i] = cleanPokemonName(gen4['Name'][i])\n",
    "\n",
    "for i in range(len(gen5['Name'])):\n",
    "    gen5['Name'][i] = cleanPokemonName(gen5['Name'][i])\n",
    "\n",
    "for i in range(len(gen6['Name'])):\n",
    "    gen6['Name'][i] = cleanPokemonName(gen6['Name'][i])\n",
    "\n",
    "for i in range(len(gen7['Name'])):\n",
    "    gen7['Name'][i] = cleanPokemonName(gen7['Name'][i])\n",
    "\n",
    "for i in range(len(gen8['Name'])):\n",
    "    gen8['Name'][i] = cleanPokemonName(gen8['Name'][i])\n",
    "\n",
    "for i in range(len(gen9['Name'])):\n",
    "    gen9['Name'][i] = cleanPokemonName(gen9['Name'][i])"
   ]
  },
  {
   "cell_type": "code",
   "execution_count": 58,
   "metadata": {},
   "outputs": [
    {
     "data": {
      "text/plain": [
       "16"
      ]
     },
     "execution_count": 58,
     "metadata": {},
     "output_type": "execute_result"
    }
   ],
   "source": [
    "sumOfUniqueArticles"
   ]
  },
  {
   "cell_type": "markdown",
   "metadata": {},
   "source": [
    "## Get Gen 2 Pokemon articles"
   ]
  },
  {
   "cell_type": "code",
   "execution_count": 51,
   "metadata": {},
   "outputs": [],
   "source": [
    "len(gen2)\n",
    "done2 = {}"
   ]
  },
  {
   "cell_type": "code",
   "execution_count": 53,
   "metadata": {},
   "outputs": [],
   "source": [
    "# special function changes with each generation\n",
    "url = 'https://en.wikipedia.org/api/rest_v1/page/pdf/Chikorita%20(Pokémon)' \n",
    "response = requests.get(url)\n",
    "response.raise_for_status()\n",
    "unUniqueArticle = response.content\n",
    "\n",
    "\n",
    "def checkArticleUniqueness(article):\n",
    "    if article != unUniqueArticle:\n",
    "        return True\n",
    "    else:\n",
    "        return False"
   ]
  },
  {
   "cell_type": "code",
   "execution_count": null,
   "metadata": {},
   "outputs": [],
   "source": [
    "for pokemon in gen2['Name'][0:50]:\n",
    "    \n",
    "    if done2.get(pokemon):\n",
    "        continue\n",
    "    else:\n",
    "        done2[pokemon] = pokemon\n",
    "    \n",
    "    print(\"Pokemon: \", pokemon)\n",
    "    article = getRawArticle(pokemon)\n",
    "\n",
    "    if article != None:\n",
    "\n",
    "        if checkArticleUniqueness(article):\n",
    "            sumOfUniqueArticles = sumOfUniqueArticles + 1\n",
    "            rawArticletoPDF(article, pokemon)\n",
    "        else:\n",
    "            continue\n",
    "\n",
    "    else:\n",
    "        continue"
   ]
  },
  {
   "cell_type": "code",
   "execution_count": null,
   "metadata": {},
   "outputs": [],
   "source": [
    "for pokemon in gen2['Name'][50:]:\n",
    "\n",
    "    if done2.get(pokemon):\n",
    "        continue\n",
    "    else:\n",
    "        done2[pokemon] = pokemon\n",
    "\n",
    "    print(\"Pokemon: \", pokemon)\n",
    "    article = getRawArticle(pokemon)\n",
    "\n",
    "    if article != None:\n",
    "\n",
    "        if checkArticleUniqueness(article):\n",
    "            sumOfUniqueArticles = sumOfUniqueArticles + 1\n",
    "            rawArticletoPDF(article, pokemon)\n",
    "        else:\n",
    "            continue\n",
    "\n",
    "    else:\n",
    "        continue"
   ]
  },
  {
   "cell_type": "code",
   "execution_count": 60,
   "metadata": {},
   "outputs": [
    {
     "data": {
      "text/plain": [
       "100"
      ]
     },
     "execution_count": 60,
     "metadata": {},
     "output_type": "execute_result"
    }
   ],
   "source": [
    "len(done2)"
   ]
  },
  {
   "cell_type": "markdown",
   "metadata": {},
   "source": [
    "# Gen 3 Pokemon"
   ]
  },
  {
   "cell_type": "code",
   "execution_count": 67,
   "metadata": {},
   "outputs": [],
   "source": [
    "len(gen3)\n",
    "done3 = {}"
   ]
  },
  {
   "cell_type": "code",
   "execution_count": 69,
   "metadata": {},
   "outputs": [],
   "source": [
    "# special function changes with each generation\n",
    "url = 'https://en.wikipedia.org/api/rest_v1/page/pdf/Treecko%20(Pokémon)' \n",
    "response = requests.get(url)\n",
    "response.raise_for_status()\n",
    "#rawArticletoPDF(article, 'Treecko')\n",
    "unUniqueArticle = response.content\n",
    "\n",
    "\n",
    "def checkArticleUniqueness(article):\n",
    "    if article != unUniqueArticle:\n",
    "        return True\n",
    "    else:\n",
    "        return False"
   ]
  },
  {
   "cell_type": "code",
   "execution_count": 70,
   "metadata": {},
   "outputs": [
    {
     "name": "stdout",
     "output_type": "stream",
     "text": [
      "Pokemon:  Treecko\n",
      "Pokemon:  Grovyle\n",
      "Pokemon:  Sceptile\n",
      "Pokemon:  Torchic\n",
      "Pokemon:  Combusken\n",
      "Pokemon:  Blaziken\n",
      "Pokemon:  Mudkip\n",
      "Pokemon:  Marshtomp\n",
      "Pokemon:  Swampert\n",
      "Pokemon:  Poochyena\n",
      "Pokemon:  Mightyena\n",
      "Pokemon:  Zigzagoon\n",
      "Pokemon:  Linoone\n",
      "Pokemon:  Wurmple\n",
      "Pokemon:  Silcoon\n",
      "Pokemon:  Beautifly\n",
      "Pokemon:  Cascoon\n",
      "Pokemon:  Dustox\n",
      "Pokemon:  Lotad\n",
      "Pokemon:  Lombre\n",
      "Pokemon:  Ludicolo\n",
      "Pokemon:  Seedot\n",
      "Pokemon:  Nuzleaf\n",
      "Pokemon:  Shiftry\n",
      "Pokemon:  Taillow\n",
      "Pokemon:  Swellow\n",
      "Pokemon:  Wingull\n",
      "Pokemon:  Pelipper\n",
      "Pokemon:  Ralts\n",
      "Pokemon:  Kirlia\n",
      "Pokemon:  Gardevoir\n",
      "Pokemon:  Surskit\n",
      "Pokemon:  Masquerain\n",
      "Pokemon:  Shroomish\n",
      "Pokemon:  Breloom\n",
      "Pokemon:  Slakoth\n",
      "Pokemon:  Vigoroth\n",
      "Pokemon:  Slaking\n",
      "Pokemon:  Nincada\n",
      "Pokemon:  Ninjask\n",
      "Pokemon:  Shedinja\n",
      "Pokemon:  Whismur\n",
      "Pokemon:  Loudred\n",
      "Pokemon:  Exploud\n",
      "Pokemon:  Makuhita\n",
      "Pokemon:  Hariyama\n",
      "Pokemon:  Azurill\n",
      "Pokemon:  Nosepass\n",
      "Pokemon:  Skitty\n",
      "Pokemon:  Delcatty\n"
     ]
    }
   ],
   "source": [
    "for pokemon in gen3['Name'][0:50]:\n",
    "\n",
    "    if done3.get(pokemon):\n",
    "        continue\n",
    "    else:\n",
    "        done3[pokemon] = pokemon\n",
    "\n",
    "    print(\"Pokemon: \", pokemon)\n",
    "    article = getRawArticle(pokemon)\n",
    "\n",
    "    if article != None:\n",
    "\n",
    "        if checkArticleUniqueness(article):\n",
    "            sumOfUniqueArticles = sumOfUniqueArticles + 1\n",
    "            rawArticletoPDF(article, pokemon)\n",
    "        else:\n",
    "            continue\n",
    "\n",
    "    else:\n",
    "        continue"
   ]
  },
  {
   "cell_type": "code",
   "execution_count": null,
   "metadata": {},
   "outputs": [],
   "source": []
  },
  {
   "cell_type": "code",
   "execution_count": 71,
   "metadata": {},
   "outputs": [
    {
     "name": "stdout",
     "output_type": "stream",
     "text": [
      "Pokemon:  Sableye\n",
      "Pokemon:  Mawile\n",
      "Pokemon:  Aron\n",
      "Pokemon:  Lairon\n",
      "Pokemon:  Aggron\n",
      "Pokemon:  Meditite\n",
      "Pokemon:  Medicham\n",
      "Pokemon:  Electrike\n",
      "Pokemon:  Manectric\n",
      "Pokemon:  Plusle\n",
      "Pokemon:  Minun\n",
      "Pokemon:  Volbeat\n",
      "Pokemon:  Illumise\n",
      "Pokemon:  Roselia\n",
      "Pokemon:  Gulpin\n",
      "Pokemon:  Swalot\n",
      "Pokemon:  Carvanha\n",
      "Pokemon:  Sharpedo\n",
      "Pokemon:  Wailmer\n",
      "Pokemon:  Wailord\n",
      "Pokemon:  Numel\n",
      "Pokemon:  Camerupt\n",
      "Pokemon:  Torkoal\n",
      "Pokemon:  Spoink\n",
      "Pokemon:  Grumpig\n",
      "Pokemon:  Spinda\n",
      "Pokemon:  Trapinch\n",
      "Pokemon:  Vibrava\n",
      "Pokemon:  Flygon\n",
      "Pokemon:  Cacnea\n",
      "Pokemon:  Cacturne\n",
      "Pokemon:  Swablu\n",
      "Pokemon:  Altaria\n",
      "Pokemon:  Zangoose\n",
      "Pokemon:  Seviper\n",
      "Pokemon:  Lunatone\n",
      "Pokemon:  Solrock\n",
      "Pokemon:  Barboach\n",
      "Pokemon:  Whiscash\n",
      "Pokemon:  Corphish\n",
      "Pokemon:  Crawdaunt\n",
      "Pokemon:  Baltoy\n",
      "Pokemon:  Claydol\n",
      "Pokemon:  Lileep\n",
      "Pokemon:  Cradily\n",
      "Pokemon:  Anorith\n",
      "Pokemon:  Armaldo\n",
      "Pokemon:  Feebas\n",
      "Pokemon:  Milotic\n",
      "Pokemon:  Castform\n"
     ]
    }
   ],
   "source": [
    "for pokemon in gen3['Name'][50:100]:\n",
    "\n",
    "    if done3.get(pokemon):\n",
    "        continue\n",
    "    else:\n",
    "        done3[pokemon] = pokemon\n",
    "\n",
    "    print(\"Pokemon: \", pokemon)\n",
    "    article = getRawArticle(pokemon)\n",
    "\n",
    "    if article != None:\n",
    "\n",
    "        if checkArticleUniqueness(article):\n",
    "            sumOfUniqueArticles = sumOfUniqueArticles + 1\n",
    "            rawArticletoPDF(article, pokemon)\n",
    "        else:\n",
    "            continue\n",
    "\n",
    "    else:\n",
    "        continue"
   ]
  },
  {
   "cell_type": "code",
   "execution_count": 72,
   "metadata": {},
   "outputs": [
    {
     "name": "stdout",
     "output_type": "stream",
     "text": [
      "Pokemon:  Kecleon\n",
      "Pokemon:  Shuppet\n",
      "Pokemon:  Banette\n",
      "Pokemon:  Duskull\n",
      "Pokemon:  Dusclops\n",
      "Pokemon:  Tropius\n",
      "Pokemon:  Chimecho\n",
      "Pokemon:  Absol\n",
      "Pokemon:  Wynaut\n",
      "Pokemon:  Snorunt\n",
      "Pokemon:  Glalie\n",
      "Pokemon:  Spheal\n",
      "Pokemon:  Sealeo\n",
      "Pokemon:  Walrein\n",
      "Pokemon:  Clamperl\n",
      "Pokemon:  Huntail\n",
      "Pokemon:  Gorebyss\n",
      "Pokemon:  Relicanth\n",
      "Pokemon:  Luvdisc\n",
      "Pokemon:  Bagon\n",
      "Pokemon:  Shelgon\n",
      "Pokemon:  Salamence\n",
      "Pokemon:  Beldum\n",
      "Pokemon:  Metang\n",
      "Pokemon:  Metagross\n",
      "Pokemon:  Regirock\n",
      "Pokemon:  Regice\n",
      "Pokemon:  Registeel\n",
      "Pokemon:  Latias\n",
      "Pokemon:  Latios\n",
      "Pokemon:  Kyogre\n",
      "Pokemon:  Groudon\n",
      "Pokemon:  Rayquaza\n",
      "Pokemon:  Jirachi\n",
      "Pokemon:  Deoxys[f]\n"
     ]
    }
   ],
   "source": [
    "for pokemon in gen3['Name'][100:]:\n",
    "\n",
    "    if done3.get(pokemon):\n",
    "        continue\n",
    "    else:\n",
    "        done3[pokemon] = pokemon\n",
    "\n",
    "    print(\"Pokemon: \", pokemon)\n",
    "    article = getRawArticle(pokemon)\n",
    "\n",
    "    if article != None:\n",
    "\n",
    "        if checkArticleUniqueness(article):\n",
    "            sumOfUniqueArticles = sumOfUniqueArticles + 1\n",
    "            rawArticletoPDF(article, pokemon)\n",
    "        else:\n",
    "            continue\n",
    "\n",
    "    else:\n",
    "        continue"
   ]
  },
  {
   "cell_type": "code",
   "execution_count": 73,
   "metadata": {},
   "outputs": [
    {
     "data": {
      "text/plain": [
       "16"
      ]
     },
     "execution_count": 73,
     "metadata": {},
     "output_type": "execute_result"
    }
   ],
   "source": [
    "sumOfUniqueArticles"
   ]
  },
  {
   "cell_type": "markdown",
   "metadata": {},
   "source": [
    "# Gen 4 pokemon"
   ]
  },
  {
   "cell_type": "code",
   "execution_count": null,
   "metadata": {},
   "outputs": [],
   "source": []
  }
 ],
 "metadata": {
  "interpreter": {
   "hash": "369f2c481f4da34e4445cda3fffd2e751bd1c4d706f27375911949ba6bb62e1c"
  },
  "kernelspec": {
   "display_name": "Python 3.10.4 64-bit",
   "language": "python",
   "name": "python3"
  },
  "language_info": {
   "codemirror_mode": {
    "name": "ipython",
    "version": 3
   },
   "file_extension": ".py",
   "mimetype": "text/x-python",
   "name": "python",
   "nbconvert_exporter": "python",
   "pygments_lexer": "ipython3",
   "version": "3.10.4"
  },
  "orig_nbformat": 4,
  "vscode": {
   "interpreter": {
    "hash": "369f2c481f4da34e4445cda3fffd2e751bd1c4d706f27375911949ba6bb62e1c"
   }
  }
 },
 "nbformat": 4,
 "nbformat_minor": 2
}
